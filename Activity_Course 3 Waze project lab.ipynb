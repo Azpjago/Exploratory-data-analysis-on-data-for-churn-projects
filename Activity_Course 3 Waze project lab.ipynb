{
 "cells": [
  {
   "cell_type": "markdown",
   "metadata": {
    "id": "DtNBZFHO3M7n"
   },
   "source": [
    "# **Waze Project**\n",
    "**Course 3 - Go Beyond the Numbers: Translate Data into Insights**"
   ]
  },
  {
   "cell_type": "markdown",
   "metadata": {
    "id": "g-E8SNtmRUkN"
   },
   "source": [
    "Tim Anda masih berada di tahap awal proyek perubahan pengguna. Sejauh ini, Anda telah menyelesaikan proposal proyek dan menggunakan Python untuk memeriksa dan mengatur data pengguna Waze.\n",
    "\n",
    "Anda memeriksa kotak masuk dan melihat pesan baru dari Chidi Ga, Analis Data Senior tim Anda. Chidi senang dengan pekerjaan yang telah Anda selesaikan dan meminta bantuan Anda untuk melakukan analisis data eksploratif (EDA) dan visualisasi data lebih lanjut. Harriet Hadzic, Direktur Analisis Data Waze, ingin meninjau buku catatan Python yang menunjukkan eksplorasi dan visualisasi data Anda.\n",
    "\n",
    "Sebuah buku catatan telah disusun dan dipersiapkan untuk membantu Anda dalam proyek ini. Silakan lengkapi pertanyaan-pertanyaan berikut ini dan siapkan ringkasan eksekutif."
   ]
  },
  {
   "cell_type": "markdown",
   "metadata": {
    "id": "rgSbVJvomcVa"
   },
   "source": [
    "# **Kursus 3 Proyek akhir kursus: Analisis data eksplorasi**\n",
    "\n",
    "Dalam aktivitas ini, Anda akan memeriksa data yang diberikan dan menyiapkannya untuk dianalisis.\n",
    "<br/>\n",
    "\n",
    "**Tujuan** proyek ini adalah untuk melakukan analisis data eksplorasi (EDA) pada kumpulan data yang disediakan.\n",
    "\n",
    "**Tujuannya** adalah untuk melanjutkan pemeriksaan data yang Anda mulai di Kursus sebelumnya, menambahkan visualisasi relevan yang membantu mengomunikasikan cerita yang diceritakan oleh data tersebut.\n",
    "<br/>\n",
    "\n",
    "\n",
    "*Kegiatan ini terdiri dari 4 bagian:*\n",
    "\n",
    "**Bagian 1:** Impor, tautan, dan pemuatan\n",
    "\n",
    "**Bagian 2:** Eksplorasi Data\n",
    "* Pembersihan data\n",
    "\n",
    "\n",
    "**Bagian 3:** Membangun visualisasi\n",
    "\n",
    "**Bagian 4:** Mengevaluasi dan membagikan hasil\n",
    "\n",
    "<br/>\n",
    "\n",
    "\n",
    "Ikuti instruksi dan jawab pertanyaan di bawah untuk menyelesaikan aktivitas. Kemudian, Anda akan menyelesaikan ringkasan eksekutif menggunakan pertanyaan yang tercantum di [Dokumen Strategi PACE](https://docs.google.com/document/d/1iSHdbfQR6w8RClJNWai8oJXn9tQmYoTKn6QohuaK4-s/template/preview?resourcekey=0-ZIHnbxL1dd2u9A47iEVXvg).\n",
    "\n",
    "Pastikan untuk menyelesaikan aktivitas ini sebelum melanjutkan. Item kursus berikutnya akan memberi Anda contoh lengkap untuk dibandingkan dengan pekerjaan Anda sendiri."
   ]
  },
  {
   "cell_type": "markdown",
   "metadata": {
    "id": "9D43bTW0zOlX"
   },
   "source": [
    "# **Visualize a story in Python**"
   ]
  },
  {
   "cell_type": "markdown",
   "metadata": {
    "id": "rdR5eWbYx8GE"
   },
   "source": [
    "<img src=\"images/Pace.png\" width=\"100\" height=\"100\" align=left>\n",
    "\n",
    "# **PACE stages**\n"
   ]
  },
  {
   "cell_type": "markdown",
   "metadata": {
    "id": "diPme_MzeshF"
   },
   "source": [
    "Di sepanjang buku catatan proyek ini, Anda akan melihat referensi ke kerangka kerja pemecahan masalah PACE. Komponen notebook berikut diberi label dengan tahapan PACE masing-masing: Plan, Analyze, Construct, dan Execute."
   ]
  },
  {
   "cell_type": "markdown",
   "metadata": {
    "id": "xKLZJUqMx8GE"
   },
   "source": [
    "<img src=\"images/Plan.png\" width=\"100\" height=\"100\" align=left>\n",
    "\n",
    "\n",
    "## **PACE: Plan**\n",
    "\n",
    "Consider the questions in your PACE Strategy Document to reflect on the Plan stage.\n",
    "\n"
   ]
  },
  {
   "cell_type": "markdown",
   "metadata": {
    "id": "SKur6gTPRcvy"
   },
   "source": [
    "### **Task 1. Imports and data loading**\n",
    "\n",
    "For EDA of the data, import the data and packages that will be most helpful, such as pandas, numpy, and matplotlib.\n",
    "\n",
    "\n"
   ]
  },
  {
   "cell_type": "code",
   "execution_count": 1,
   "metadata": {
    "id": "EO8vKZI8x8GF"
   },
   "outputs": [],
   "source": [
    "### YOUR CODE HERE ###\n",
    "import pandas as pd\n",
    "import matplotlib.pyplot as plt\n",
    "import numpy as np\n",
    "import seaborn as sns"
   ]
  },
  {
   "cell_type": "markdown",
   "metadata": {
    "id": "Rf1WWIBW48QC"
   },
   "source": [
    "Baca data dan simpan sebagai objek kerangka data yang disebut df.\n",
    "\n",
    "**Catatan:** Seperti yang ditampilkan di sel ini, set data telah dimuat secara otomatis untuk Anda. Anda tidak perlu mengunduh file .csv, atau memberikan kode lainnya, untuk mengakses kumpulan data dan melanjutkan lab ini. Silakan lanjutkan kegiatan ini dengan menyelesaikan petunjuk berikut."
   ]
  },
  {
   "cell_type": "code",
   "execution_count": 2,
   "metadata": {
    "id": "w7XSDxoqyF9D"
   },
   "outputs": [],
   "source": [
    "# Load the dataset into a dataframe\n",
    "df = pd.read_csv('waze_dataset.csv')"
   ]
  },
  {
   "cell_type": "markdown",
   "metadata": {
    "id": "3mipEiyZx8GI"
   },
   "source": [
    "<img src=\"gambar/Analisis.png\" width=\"100\" height=\"100\" align=kiri>\n",
    "\n",
    "## **PACE: Analisis**\n",
    "\n",
    "Pertimbangkan pertanyaan dalam Dokumen Strategi PACE Anda dan pertanyaan di bawah ini jika berlaku untuk melengkapi kode Anda:\n",
    "1. Apakah data perlu direstrukturisasi atau diubah menjadi format yang dapat digunakan?\n",
    "\n",
    "2. Apakah ada variabel yang datanya hilang?"
   ]
  },
  {
   "cell_type": "markdown",
   "metadata": {
    "id": "VZiH_pEMNm_M"
   },
   "source": [
    "**Jawaban**\n",
    "1. Data memiliki format terstruktur, setiap baris menggambarkan seorang pengguna\n",
    "2. Ya, 700 baris memiliki data yang hilang. Variabel lainnya tidak memiliki data yang hilang."
   ]
  },
  {
   "cell_type": "markdown",
   "metadata": {
    "id": "n09krlKWRw_2"
   },
   "source": [
    "### **Tugas 2. Eksplorasi dan pembersihan data**\n",
    "\n",
    "Pertimbangkan pertanyaan-pertanyaan berikut:\n",
    "\n",
    "\n",
    "\n",
    "1. Berdasarkan skenarionya, kolom data mana yang paling sesuai?\n",
    "\n",
    "2. Kolom data mana yang dapat Anda hilangkan, mengetahui bahwa kolom tersebut tidak akan menyelesaikan skenario masalah Anda?\n",
    "\n",
    "3. Bagaimana Anda memeriksa data yang hilang? Dan bagaimana Anda menangani data yang hilang (jika ada)?\n",
    "\n",
    "4. Bagaimana Anda memeriksa outlier? Dan bagaimana menangani outlier (jika ada)?"
   ]
  },
  {
   "cell_type": "markdown",
   "metadata": {
    "id": "WQDcGzfANuSe"
   },
   "source": [
    "**Jawaban:**\n",
    "\n",
    "1. Karena kami tertarik dengan churn pengguna, kolom `label` sangat penting. Selain `label`, variabel yang terkait dengan perilaku pengguna akan menjadi yang paling dapat diterapkan. Semua variabel terkait dengan perilaku pengguna kecuali `ID`.\n",
    "\n",
    "2. `ID` dapat dihapus dari analisis karena kami tidak tertarik untuk mengidentifikasi pengguna tertentu. `ID` tidak memberikan informasi yang berarti tentang churn (kecuali `ID` ditetapkan berdasarkan waktu pendaftaran pengguna).\n",
    "\n",
    "3. Untuk memeriksa data yang hilang, kita dapat menggunakan `df.info()` dan memeriksa kolom `Non-Null Count`. Selisih antara jumlah bukan nol dan jumlah baris dalam data adalah jumlah nilai yang hilang untuk variabel tersebut.\n",
    "\n",
    "    Jika data yang hilang benar-benar hilang secara acak (MCAR), artinya alasan hilangnya data tidak bergantung pada nilai data itu sendiri, kita dapat melanjutkan dengan analisis kasus lengkap dengan menghapus baris dengan nilai yang hilang. Jika tidak, kita perlu menyelidiki akar penyebab hilangnya data tersebut dan memastikannya tidak akan mengganggu inferensi statistik dan pemodelan.\n",
    "\n",
    "4. Lihat contoh jawaban sebelumnya untuk pertanyaan outlier."
   ]
  },
  {
   "cell_type": "markdown",
   "metadata": {
    "id": "uk6zuv_mUU2k"
   },
   "source": [
    "#### **Data overview and summary statistics**\n",
    "\n",
    "Use the following methods and attributes on the dataframe:\n",
    "\n",
    "* `head()`\n",
    "* `size`\n",
    "* `describe()`\n",
    "* `info()`\n",
    "\n",
    "It's always helpful to have this information at the beginning of a project, where you can always refer back to if needed."
   ]
  },
  {
   "cell_type": "code",
   "execution_count": 3,
   "metadata": {
    "id": "cBOUo5p-tbib"
   },
   "outputs": [
    {
     "data": {
      "text/html": [
       "<div>\n",
       "<style scoped>\n",
       "    .dataframe tbody tr th:only-of-type {\n",
       "        vertical-align: middle;\n",
       "    }\n",
       "\n",
       "    .dataframe tbody tr th {\n",
       "        vertical-align: top;\n",
       "    }\n",
       "\n",
       "    .dataframe thead th {\n",
       "        text-align: right;\n",
       "    }\n",
       "</style>\n",
       "<table border=\"1\" class=\"dataframe\">\n",
       "  <thead>\n",
       "    <tr style=\"text-align: right;\">\n",
       "      <th></th>\n",
       "      <th>ID</th>\n",
       "      <th>label</th>\n",
       "      <th>sessions</th>\n",
       "      <th>drives</th>\n",
       "      <th>total_sessions</th>\n",
       "      <th>n_days_after_onboarding</th>\n",
       "      <th>total_navigations_fav1</th>\n",
       "      <th>total_navigations_fav2</th>\n",
       "      <th>driven_km_drives</th>\n",
       "      <th>duration_minutes_drives</th>\n",
       "      <th>activity_days</th>\n",
       "      <th>driving_days</th>\n",
       "      <th>device</th>\n",
       "    </tr>\n",
       "  </thead>\n",
       "  <tbody>\n",
       "    <tr>\n",
       "      <th>0</th>\n",
       "      <td>0</td>\n",
       "      <td>retained</td>\n",
       "      <td>283</td>\n",
       "      <td>226</td>\n",
       "      <td>296.748273</td>\n",
       "      <td>2276</td>\n",
       "      <td>208</td>\n",
       "      <td>0</td>\n",
       "      <td>2628.845068</td>\n",
       "      <td>1985.775061</td>\n",
       "      <td>28</td>\n",
       "      <td>19</td>\n",
       "      <td>Android</td>\n",
       "    </tr>\n",
       "    <tr>\n",
       "      <th>1</th>\n",
       "      <td>1</td>\n",
       "      <td>retained</td>\n",
       "      <td>133</td>\n",
       "      <td>107</td>\n",
       "      <td>326.896596</td>\n",
       "      <td>1225</td>\n",
       "      <td>19</td>\n",
       "      <td>64</td>\n",
       "      <td>13715.920550</td>\n",
       "      <td>3160.472914</td>\n",
       "      <td>13</td>\n",
       "      <td>11</td>\n",
       "      <td>iPhone</td>\n",
       "    </tr>\n",
       "    <tr>\n",
       "      <th>2</th>\n",
       "      <td>2</td>\n",
       "      <td>retained</td>\n",
       "      <td>114</td>\n",
       "      <td>95</td>\n",
       "      <td>135.522926</td>\n",
       "      <td>2651</td>\n",
       "      <td>0</td>\n",
       "      <td>0</td>\n",
       "      <td>3059.148818</td>\n",
       "      <td>1610.735904</td>\n",
       "      <td>14</td>\n",
       "      <td>8</td>\n",
       "      <td>Android</td>\n",
       "    </tr>\n",
       "    <tr>\n",
       "      <th>3</th>\n",
       "      <td>3</td>\n",
       "      <td>retained</td>\n",
       "      <td>49</td>\n",
       "      <td>40</td>\n",
       "      <td>67.589221</td>\n",
       "      <td>15</td>\n",
       "      <td>322</td>\n",
       "      <td>7</td>\n",
       "      <td>913.591123</td>\n",
       "      <td>587.196542</td>\n",
       "      <td>7</td>\n",
       "      <td>3</td>\n",
       "      <td>iPhone</td>\n",
       "    </tr>\n",
       "    <tr>\n",
       "      <th>4</th>\n",
       "      <td>4</td>\n",
       "      <td>retained</td>\n",
       "      <td>84</td>\n",
       "      <td>68</td>\n",
       "      <td>168.247020</td>\n",
       "      <td>1562</td>\n",
       "      <td>166</td>\n",
       "      <td>5</td>\n",
       "      <td>3950.202008</td>\n",
       "      <td>1219.555924</td>\n",
       "      <td>27</td>\n",
       "      <td>18</td>\n",
       "      <td>Android</td>\n",
       "    </tr>\n",
       "  </tbody>\n",
       "</table>\n",
       "</div>"
      ],
      "text/plain": [
       "   ID     label  sessions  drives  total_sessions  n_days_after_onboarding  \\\n",
       "0   0  retained       283     226      296.748273                     2276   \n",
       "1   1  retained       133     107      326.896596                     1225   \n",
       "2   2  retained       114      95      135.522926                     2651   \n",
       "3   3  retained        49      40       67.589221                       15   \n",
       "4   4  retained        84      68      168.247020                     1562   \n",
       "\n",
       "   total_navigations_fav1  total_navigations_fav2  driven_km_drives  \\\n",
       "0                     208                       0       2628.845068   \n",
       "1                      19                      64      13715.920550   \n",
       "2                       0                       0       3059.148818   \n",
       "3                     322                       7        913.591123   \n",
       "4                     166                       5       3950.202008   \n",
       "\n",
       "   duration_minutes_drives  activity_days  driving_days   device  \n",
       "0              1985.775061             28            19  Android  \n",
       "1              3160.472914             13            11   iPhone  \n",
       "2              1610.735904             14             8  Android  \n",
       "3               587.196542              7             3   iPhone  \n",
       "4              1219.555924             27            18  Android  "
      ]
     },
     "execution_count": 3,
     "metadata": {},
     "output_type": "execute_result"
    }
   ],
   "source": [
    "### YOUR CODE HERE ###\n",
    "df.head()"
   ]
  },
  {
   "cell_type": "code",
   "execution_count": 4,
   "metadata": {
    "id": "S3tza5fNfIMo"
   },
   "outputs": [
    {
     "data": {
      "text/plain": [
       "194987"
      ]
     },
     "execution_count": 4,
     "metadata": {},
     "output_type": "execute_result"
    }
   ],
   "source": [
    "### YOUR CODE HERE ###\n",
    "df.size"
   ]
  },
  {
   "cell_type": "markdown",
   "metadata": {
    "id": "WulP4lZ9UVgy"
   },
   "source": [
    "Generate summary statistics using the `describe()` method."
   ]
  },
  {
   "cell_type": "code",
   "execution_count": 5,
   "metadata": {
    "id": "fhPkaaqDR99b"
   },
   "outputs": [
    {
     "data": {
      "text/html": [
       "<div>\n",
       "<style scoped>\n",
       "    .dataframe tbody tr th:only-of-type {\n",
       "        vertical-align: middle;\n",
       "    }\n",
       "\n",
       "    .dataframe tbody tr th {\n",
       "        vertical-align: top;\n",
       "    }\n",
       "\n",
       "    .dataframe thead th {\n",
       "        text-align: right;\n",
       "    }\n",
       "</style>\n",
       "<table border=\"1\" class=\"dataframe\">\n",
       "  <thead>\n",
       "    <tr style=\"text-align: right;\">\n",
       "      <th></th>\n",
       "      <th>ID</th>\n",
       "      <th>sessions</th>\n",
       "      <th>drives</th>\n",
       "      <th>total_sessions</th>\n",
       "      <th>n_days_after_onboarding</th>\n",
       "      <th>total_navigations_fav1</th>\n",
       "      <th>total_navigations_fav2</th>\n",
       "      <th>driven_km_drives</th>\n",
       "      <th>duration_minutes_drives</th>\n",
       "      <th>activity_days</th>\n",
       "      <th>driving_days</th>\n",
       "    </tr>\n",
       "  </thead>\n",
       "  <tbody>\n",
       "    <tr>\n",
       "      <th>count</th>\n",
       "      <td>14999.000000</td>\n",
       "      <td>14999.000000</td>\n",
       "      <td>14999.000000</td>\n",
       "      <td>14999.000000</td>\n",
       "      <td>14999.000000</td>\n",
       "      <td>14999.000000</td>\n",
       "      <td>14999.000000</td>\n",
       "      <td>14999.000000</td>\n",
       "      <td>14999.000000</td>\n",
       "      <td>14999.000000</td>\n",
       "      <td>14999.000000</td>\n",
       "    </tr>\n",
       "    <tr>\n",
       "      <th>mean</th>\n",
       "      <td>7499.000000</td>\n",
       "      <td>80.633776</td>\n",
       "      <td>67.281152</td>\n",
       "      <td>189.964447</td>\n",
       "      <td>1749.837789</td>\n",
       "      <td>121.605974</td>\n",
       "      <td>29.672512</td>\n",
       "      <td>4039.340921</td>\n",
       "      <td>1860.976012</td>\n",
       "      <td>15.537102</td>\n",
       "      <td>12.179879</td>\n",
       "    </tr>\n",
       "    <tr>\n",
       "      <th>std</th>\n",
       "      <td>4329.982679</td>\n",
       "      <td>80.699065</td>\n",
       "      <td>65.913872</td>\n",
       "      <td>136.405128</td>\n",
       "      <td>1008.513876</td>\n",
       "      <td>148.121544</td>\n",
       "      <td>45.394651</td>\n",
       "      <td>2502.149334</td>\n",
       "      <td>1446.702288</td>\n",
       "      <td>9.004655</td>\n",
       "      <td>7.824036</td>\n",
       "    </tr>\n",
       "    <tr>\n",
       "      <th>min</th>\n",
       "      <td>0.000000</td>\n",
       "      <td>0.000000</td>\n",
       "      <td>0.000000</td>\n",
       "      <td>0.220211</td>\n",
       "      <td>4.000000</td>\n",
       "      <td>0.000000</td>\n",
       "      <td>0.000000</td>\n",
       "      <td>60.441250</td>\n",
       "      <td>18.282082</td>\n",
       "      <td>0.000000</td>\n",
       "      <td>0.000000</td>\n",
       "    </tr>\n",
       "    <tr>\n",
       "      <th>25%</th>\n",
       "      <td>3749.500000</td>\n",
       "      <td>23.000000</td>\n",
       "      <td>20.000000</td>\n",
       "      <td>90.661156</td>\n",
       "      <td>878.000000</td>\n",
       "      <td>9.000000</td>\n",
       "      <td>0.000000</td>\n",
       "      <td>2212.600607</td>\n",
       "      <td>835.996260</td>\n",
       "      <td>8.000000</td>\n",
       "      <td>5.000000</td>\n",
       "    </tr>\n",
       "    <tr>\n",
       "      <th>50%</th>\n",
       "      <td>7499.000000</td>\n",
       "      <td>56.000000</td>\n",
       "      <td>48.000000</td>\n",
       "      <td>159.568115</td>\n",
       "      <td>1741.000000</td>\n",
       "      <td>71.000000</td>\n",
       "      <td>9.000000</td>\n",
       "      <td>3493.858085</td>\n",
       "      <td>1478.249859</td>\n",
       "      <td>16.000000</td>\n",
       "      <td>12.000000</td>\n",
       "    </tr>\n",
       "    <tr>\n",
       "      <th>75%</th>\n",
       "      <td>11248.500000</td>\n",
       "      <td>112.000000</td>\n",
       "      <td>93.000000</td>\n",
       "      <td>254.192341</td>\n",
       "      <td>2623.500000</td>\n",
       "      <td>178.000000</td>\n",
       "      <td>43.000000</td>\n",
       "      <td>5289.861262</td>\n",
       "      <td>2464.362632</td>\n",
       "      <td>23.000000</td>\n",
       "      <td>19.000000</td>\n",
       "    </tr>\n",
       "    <tr>\n",
       "      <th>max</th>\n",
       "      <td>14998.000000</td>\n",
       "      <td>743.000000</td>\n",
       "      <td>596.000000</td>\n",
       "      <td>1216.154633</td>\n",
       "      <td>3500.000000</td>\n",
       "      <td>1236.000000</td>\n",
       "      <td>415.000000</td>\n",
       "      <td>21183.401890</td>\n",
       "      <td>15851.727160</td>\n",
       "      <td>31.000000</td>\n",
       "      <td>30.000000</td>\n",
       "    </tr>\n",
       "  </tbody>\n",
       "</table>\n",
       "</div>"
      ],
      "text/plain": [
       "                 ID      sessions        drives  total_sessions  \\\n",
       "count  14999.000000  14999.000000  14999.000000    14999.000000   \n",
       "mean    7499.000000     80.633776     67.281152      189.964447   \n",
       "std     4329.982679     80.699065     65.913872      136.405128   \n",
       "min        0.000000      0.000000      0.000000        0.220211   \n",
       "25%     3749.500000     23.000000     20.000000       90.661156   \n",
       "50%     7499.000000     56.000000     48.000000      159.568115   \n",
       "75%    11248.500000    112.000000     93.000000      254.192341   \n",
       "max    14998.000000    743.000000    596.000000     1216.154633   \n",
       "\n",
       "       n_days_after_onboarding  total_navigations_fav1  \\\n",
       "count             14999.000000            14999.000000   \n",
       "mean               1749.837789              121.605974   \n",
       "std                1008.513876              148.121544   \n",
       "min                   4.000000                0.000000   \n",
       "25%                 878.000000                9.000000   \n",
       "50%                1741.000000               71.000000   \n",
       "75%                2623.500000              178.000000   \n",
       "max                3500.000000             1236.000000   \n",
       "\n",
       "       total_navigations_fav2  driven_km_drives  duration_minutes_drives  \\\n",
       "count            14999.000000      14999.000000             14999.000000   \n",
       "mean                29.672512       4039.340921              1860.976012   \n",
       "std                 45.394651       2502.149334              1446.702288   \n",
       "min                  0.000000         60.441250                18.282082   \n",
       "25%                  0.000000       2212.600607               835.996260   \n",
       "50%                  9.000000       3493.858085              1478.249859   \n",
       "75%                 43.000000       5289.861262              2464.362632   \n",
       "max                415.000000      21183.401890             15851.727160   \n",
       "\n",
       "       activity_days  driving_days  \n",
       "count   14999.000000  14999.000000  \n",
       "mean       15.537102     12.179879  \n",
       "std         9.004655      7.824036  \n",
       "min         0.000000      0.000000  \n",
       "25%         8.000000      5.000000  \n",
       "50%        16.000000     12.000000  \n",
       "75%        23.000000     19.000000  \n",
       "max        31.000000     30.000000  "
      ]
     },
     "execution_count": 5,
     "metadata": {},
     "output_type": "execute_result"
    }
   ],
   "source": [
    "### YOUR CODE HERE ###\n",
    "df.describe()"
   ]
  },
  {
   "cell_type": "markdown",
   "metadata": {
    "id": "psmn0VD0UWBk"
   },
   "source": [
    "And summary information using the `info()` method."
   ]
  },
  {
   "cell_type": "code",
   "execution_count": 6,
   "metadata": {
    "id": "Thlb8oiyUPwe"
   },
   "outputs": [
    {
     "name": "stdout",
     "output_type": "stream",
     "text": [
      "<class 'pandas.core.frame.DataFrame'>\n",
      "RangeIndex: 14999 entries, 0 to 14998\n",
      "Data columns (total 13 columns):\n",
      " #   Column                   Non-Null Count  Dtype  \n",
      "---  ------                   --------------  -----  \n",
      " 0   ID                       14999 non-null  int64  \n",
      " 1   label                    14299 non-null  object \n",
      " 2   sessions                 14999 non-null  int64  \n",
      " 3   drives                   14999 non-null  int64  \n",
      " 4   total_sessions           14999 non-null  float64\n",
      " 5   n_days_after_onboarding  14999 non-null  int64  \n",
      " 6   total_navigations_fav1   14999 non-null  int64  \n",
      " 7   total_navigations_fav2   14999 non-null  int64  \n",
      " 8   driven_km_drives         14999 non-null  float64\n",
      " 9   duration_minutes_drives  14999 non-null  float64\n",
      " 10  activity_days            14999 non-null  int64  \n",
      " 11  driving_days             14999 non-null  int64  \n",
      " 12  device                   14999 non-null  object \n",
      "dtypes: float64(3), int64(8), object(2)\n",
      "memory usage: 1.5+ MB\n"
     ]
    }
   ],
   "source": [
    "### YOUR CODE HERE ###\n",
    "df.info()"
   ]
  },
  {
   "cell_type": "markdown",
   "metadata": {
    "id": "f0sHpfkhx8GM"
   },
   "source": [
    "<img src=\"images/Construct.png\" width=\"100\" height=\"100\" align=left>\n",
    "\n",
    "## **PACE: Construct**\n",
    "\n",
    "Consider the questions in your PACE Strategy Document to reflect on the Construct stage."
   ]
  },
  {
   "cell_type": "markdown",
   "metadata": {
    "id": "zXjMMPoARVPm"
   },
   "source": [
    "Pertimbangkan pertanyaan-pertanyaan berikut saat Anda bersiap menghadapi outlier:\n",
    "\n",
    "1. Apa saja cara untuk mengidentifikasi outlier?\n",
    "   * Gunakan fungsi numpy untuk menyelidiki `mean()` dan `median()` dari data dan memahami rentang nilai data\n",
    "   * Gunakan boxplot untuk memvisualisasikan distribusi data\n",
    "\n",
    "2. Bagaimana Anda membuat keputusan untuk menyimpan atau mengecualikan outlier dari model masa depan?\n",
    "\n",
    "   * Ada tiga opsi utama untuk menangani outlier: mempertahankannya sebagaimana adanya, menghapusnya, atau menugaskannya kembali. Apakah Anda mempertahankan outlier sebagaimana adanya, menghapusnya, atau menetapkan kembali nilai adalah keputusan yang Anda buat berdasarkan kumpulan data per kumpulan data, sesuai dengan tujuan Anda untuk model yang Anda rencanakan untuk dibangun. Untuk membantu Anda membuat keputusan, Anda dapat memulai dengan panduan umum ini:\n",
    "\n",
    "     * Hapus mereka: Jika Anda yakin outlier adalah kesalahan, kesalahan ketik, atau kesalahan dan kumpulan data akan digunakan untuk pemodelan atau pembelajaran mesin, maka Anda lebih cenderung memutuskan untuk menghapus outlier. Dari ketiga pilihan tersebut, Anda akan menggunakan yang ini paling sedikit.\n",
    "     * Tetapkan kembali: Jika kumpulan data kecil dan/atau data akan digunakan untuk pemodelan atau pembelajaran mesin, Anda lebih cenderung memilih jalur untuk memperoleh nilai baru untuk menggantikan nilai outlier.\n",
    "     * Tinggalkan mereka: Untuk kumpulan data yang Anda rencanakan untuk melakukan EDA/analisis dan tidak ada yang lain, atau untuk kumpulan data yang Anda siapkan untuk model yang tahan terhadap outlier, kemungkinan besar Anda akan membiarkannya masuk."
   ]
  },
  {
   "cell_type": "markdown",
   "metadata": {
    "id": "AHln5I2ERjAn"
   },
   "source": [
    "==> ENTER YOUR RESPONSES TO QUESTIONS 1-2 HERE"
   ]
  },
  {
   "cell_type": "markdown",
   "metadata": {
    "id": "BYWkZ4i3wgv4"
   },
   "source": [
    "### **Tugas 3a. Visualisasi**\n",
    "\n",
    "Pilih jenis visualisasi data yang akan membantu Anda memahami dan menjelaskan data.\n",
    "\n",
    "Sekarang setelah Anda mengetahui kolom data mana yang akan Anda gunakan, sekarang saatnya memutuskan visualisasi data mana yang paling masuk akal untuk EDA dari kumpulan data Waze.\n",
    "\n",
    "**Pertanyaan:** Jenis visualisasi data apa yang paling membantu?\n",
    "\n",
    "* Grafik garis\n",
    "* Grafik batang\n",
    "* Petak kotak\n",
    "* Histogram\n",
    "* Peta panas\n",
    "* Plot pencar\n",
    "* Peta geografis"
   ]
  },
  {
   "cell_type": "markdown",
   "metadata": {
    "id": "rYYgT9kMQiNF"
   },
   "source": [
    "==> ENTER YOUR RESPONSE HERE\n",
    "**Menjawab:**\n",
    "\n",
    "\n",
    "\n",
    "* Plot kotak akan sangat membantu untuk menentukan outlier dan di mana sebagian besar titik data berada dalam hal `drive`, `sessions`, dan semua variabel numerik kontinu lainnya\n",
    "* Histogram sangat penting untuk memahami distribusi variabel\n",
    "* Plot pencar akan sangat membantu untuk memvisualisasikan hubungan antar variabel\n",
    "* Bagan batang berguna untuk mengkomunikasikan tingkat dan jumlah, terutama untuk informasi kategorikal"
   ]
  },
  {
   "cell_type": "markdown",
   "metadata": {
    "id": "TuWr3WWPQsi0"
   },
   "source": [
    "Begin by examining the spread and distribution of important variables using box plots and histograms."
   ]
  },
  {
   "cell_type": "markdown",
   "metadata": {
    "id": "5-vBw2wpSn0g"
   },
   "source": [
    "#### **`sessions`**\n",
    "\n",
    "_The number of occurrence of a user opening the app during the month_"
   ]
  },
  {
   "cell_type": "code",
   "execution_count": 7,
   "metadata": {
    "id": "9K6Alb7uc9my"
   },
   "outputs": [
    {
     "data": {
      "text/plain": [
       "Text(0.5, 1.0, 'session box plot')"
      ]
     },
     "execution_count": 7,
     "metadata": {},
     "output_type": "execute_result"
    },
    {
     "data": {
      "image/png": "[encoded data removed]",
      "text/plain": [
       "<Figure size 360x144 with 1 Axes>"
      ]
     },
     "metadata": {
      "needs_background": "light"
     },
     "output_type": "display_data"
    }
   ],
   "source": [
    "# Box plot\n",
    "### YOUR CODE HERE ###\n",
    "plt.figure(figsize=(5,2))\n",
    "sns.boxplot(x=df['sessions'], fliersize=1)\n",
    "plt.title('session box plot')"
   ]
  },
  {
   "cell_type": "code",
   "execution_count": 9,
   "metadata": {
    "id": "1YC9xCrrcvw-",
    "scrolled": true
   },
   "outputs": [
    {
     "data": {
      "text/plain": [
       "Text(0.5, 1.0, 'sessions histogram')"
      ]
     },
     "execution_count": 9,
     "metadata": {},
     "output_type": "execute_result"
    },
    {
     "data": {
      "image/png": "[encoded data removed]",
      "text/plain": [
       "<Figure size 720x360 with 1 Axes>"
      ]
     },
     "metadata": {
      "needs_background": "light"
     },
     "output_type": "display_data"
    }
   ],
   "source": [
    "# Histogram\n",
    "### YOUR CODE HERE ###\n",
    "plt.figure(figsize=(10,5))\n",
    "sns.histplot(x=df['sessions'])\n",
    "median = df['sessions'].median()\n",
    "plt.axvline(median, color='red', linestyle='--')\n",
    "plt.text(75,1200,f'median={median}',color='red')\n",
    "plt.title('sessions histogram')"
   ]
  },
  {
   "cell_type": "markdown",
   "metadata": {
    "id": "PKnZDIgDS2gV"
   },
   "source": [
    "Variabel `sesi` adalah distribusi miring ke kanan dengan setengah dari pengamatan memiliki 56 sesi atau kurang. Namun, seperti yang ditunjukkan oleh boxplot, beberapa pengguna memiliki lebih dari 700."
   ]
  },
  {
   "cell_type": "markdown",
   "metadata": {
    "id": "VSBCTrrjdpnn"
   },
   "source": [
    "#### **`drives`**\n",
    "\n",
    "_An occurrence of driving at least 1 km during the month_"
   ]
  },
  {
   "cell_type": "code",
   "execution_count": 10,
   "metadata": {
    "id": "WKEGh-a3yF9K"
   },
   "outputs": [
    {
     "data": {
      "text/plain": [
       "Text(0.5, 1.0, 'drives box plot')"
      ]
     },
     "execution_count": 10,
     "metadata": {},
     "output_type": "execute_result"
    },
    {
     "data": {
      "image/png": "[encoded data removed]",
      "text/plain": [
       "<Figure size 360x144 with 1 Axes>"
      ]
     },
     "metadata": {
      "needs_background": "light"
     },
     "output_type": "display_data"
    }
   ],
   "source": [
    "# Box plot\n",
    "### YOUR CODE HERE ###\n",
    "plt.figure(figsize=(5,2))\n",
    "sns.boxplot(x=df['drives'], fliersize=1)\n",
    "plt.title('drives box plot')"
   ]
  },
  {
   "cell_type": "markdown",
   "metadata": {
    "id": "CoU53GQEeAVw"
   },
   "source": [
    "Saat Anda melakukan EDA, Anda akan menemukan banyak tugas yang diulang, seperti memplot fitur histogram. Ingatlah bahwa setiap kali Anda menyalin/menempelkan kode, ada baiknya mempertimbangkan apakah suatu fungsi akan membantu membuat pekerjaan Anda lebih efisien. Terkadang itu tidak sepadan. Di lain waktu, mendefinisikan suatu fungsi akan sangat membantu.\n",
    "\n",
    "Blok kode berikut mendefinisikan fungsi yang membantu memplot histogram dengan gaya/format tertentu menggunakan kumpulan data khusus ini. Anda tidak harus melakukan ini, tetapi dalam hal ini akan sangat membantu."
   ]
  },
  {
   "cell_type": "code",
   "execution_count": 11,
   "metadata": {
    "id": "cP2579yeQ8AQ"
   },
   "outputs": [],
   "source": [
    "# Fungsi pembantu untuk memplot histogram berdasarkan\n",
    "# format histogram `sesi`\n",
    "def histogrammer(column_str, median_text=True, **kwargs):    # **kwargs = any keyword arguments\n",
    "                                                             # from the sns.histplot() function\n",
    "    median=round(df[column_str].median(), 1)\n",
    "    plt.figure(figsize=(5,3))\n",
    "    ax = sns.histplot(x=df[column_str], **kwargs)            # Plot the histogram\n",
    "    plt.axvline(median, color='red', linestyle='--')         # Plot the median line\n",
    "    if median_text==True:                                    # Add median text unless set to False\n",
    "        ax.text(0.25, 0.85, f'median={median}', color='red',\n",
    "            ha=\"left\", va=\"top\", transform=ax.transAxes)\n",
    "    else:\n",
    "        print('Median:', median)\n",
    "    plt.title(f'{column_str} histogram');\n"
   ]
  },
  {
   "cell_type": "code",
   "execution_count": 16,
   "metadata": {
    "id": "NtpxgGQpQ7g9"
   },
   "outputs": [
    {
     "data": {
      "image/png": "[encoded data removed]",
      "text/plain": [
       "<Figure size 360x216 with 1 Axes>"
      ]
     },
     "metadata": {
      "needs_background": "light"
     },
     "output_type": "display_data"
    }
   ],
   "source": [
    "# Histogram\n",
    "### YOUR CODE HERE ###\n",
    "histogrammer('drives')"
   ]
  },
  {
   "cell_type": "markdown",
   "metadata": {
    "id": "SVhzvyNCedL8"
   },
   "source": [
    "Informasi `drives` mengikuti distribusi yang mirip dengan variabel `sessions`. Miring ke kanan, kira-kira log-normal, dengan median 48. Namun, beberapa pengemudi memiliki lebih dari 400 drive dalam sebulan terakhir."
   ]
  },
  {
   "cell_type": "markdown",
   "metadata": {
    "id": "M-RvjOHhehOI"
   },
   "source": [
    "#### **`total_sessions`**\n",
    "\n",
    "_A model estimate of the total number of sessions since a user has onboarded_"
   ]
  },
  {
   "cell_type": "code",
   "execution_count": 17,
   "metadata": {
    "id": "ZCC9MHhOQ7Sc"
   },
   "outputs": [
    {
     "data": {
      "text/plain": [
       "Text(0.5, 1.0, 'total sessions box plot')"
      ]
     },
     "execution_count": 17,
     "metadata": {},
     "output_type": "execute_result"
    },
    {
     "data": {
      "image/png": "[encoded data removed]",
      "text/plain": [
       "<Figure size 360x72 with 1 Axes>"
      ]
     },
     "metadata": {
      "needs_background": "light"
     },
     "output_type": "display_data"
    }
   ],
   "source": [
    "# Box plot\n",
    "### YOUR CODE HERE ###\n",
    "plt.figure(figsize=(5,1))\n",
    "sns.boxplot(x=df['total_sessions'], fliersize=1)\n",
    "plt.title('total sessions box plot')"
   ]
  },
  {
   "cell_type": "code",
   "execution_count": 18,
   "metadata": {
    "id": "p5-UmoBzdrTW"
   },
   "outputs": [
    {
     "data": {
      "image/png": "[encoded data removed]",
      "text/plain": [
       "<Figure size 360x216 with 1 Axes>"
      ]
     },
     "metadata": {
      "needs_background": "light"
     },
     "output_type": "display_data"
    }
   ],
   "source": [
    "# Histogram\n",
    "### YOUR CODE HERE ###\n",
    "histogrammer('total_sessions')"
   ]
  },
  {
   "cell_type": "markdown",
   "metadata": {
    "id": "3i77iZf_etQd"
   },
   "source": [
    "`total_sessions` adalah distribusi miring ke kanan yang terlihat lebih normal daripada variabel sebelumnya. Jumlah total rata-rata sesi adalah 159,6. Ini adalah informasi yang menarik karena, jika jumlah median sesi dalam sebulan terakhir adalah 48 dan total sesi rata-rata adalah ~160, tampaknya sebagian besar dari total drive pengguna mungkin terjadi dalam sebulan terakhir. Ini adalah sesuatu yang dapat Anda periksa lebih dekat nanti."
   ]
  },
  {
   "cell_type": "markdown",
   "metadata": {
    "id": "0sfXzD_eexBm"
   },
   "source": [
    "#### **`n_days_after_onboarding`**\n",
    "\n",
    "_The number of days since a user signed up for the app_"
   ]
  },
  {
   "cell_type": "code",
   "execution_count": 19,
   "metadata": {
    "id": "PGfs6rpEdq-R"
   },
   "outputs": [
    {
     "data": {
      "text/plain": [
       "Text(0.5, 1.0, 'n days after onboarding')"
      ]
     },
     "execution_count": 19,
     "metadata": {},
     "output_type": "execute_result"
    },
    {
     "data": {
      "image/png": "[encoded data removed]",
      "text/plain": [
       "<Figure size 360x144 with 1 Axes>"
      ]
     },
     "metadata": {
      "needs_background": "light"
     },
     "output_type": "display_data"
    }
   ],
   "source": [
    "# Box plot\n",
    "### YOUR CODE HERE ###\n",
    "plt.figure(figsize=(5,2))\n",
    "sns.boxplot(x=df['n_days_after_onboarding'], fliersize=1)\n",
    "plt.title('n days after onboarding')"
   ]
  },
  {
   "cell_type": "code",
   "execution_count": 23,
   "metadata": {
    "id": "oqzA9IxRdqr1"
   },
   "outputs": [
    {
     "data": {
      "image/png": "[encoded data removed]",
      "text/plain": [
       "<Figure size 360x216 with 1 Axes>"
      ]
     },
     "metadata": {
      "needs_background": "light"
     },
     "output_type": "display_data"
    }
   ],
   "source": [
    "# Histogram\n",
    "### YOUR CODE HERE ###\n",
    "histogrammer('n_days_after_onboarding')"
   ]
  },
  {
   "cell_type": "markdown",
   "metadata": {
    "id": "wFNDAX4_e6aT"
   },
   "source": [
    "Total masa kerja pengguna (mis., jumlah hari sejak\n",
    "onboarding) adalah distribusi seragam dengan nilai mulai dari mendekati nol hingga \\~3.500 (\\~9,5 tahun)."
   ]
  },
  {
   "cell_type": "markdown",
   "metadata": {
    "id": "x1QO1Id8e7Oj"
   },
   "source": [
    "#### **`driven_km_drives`**\n",
    "\n",
    "_Total kilometers driven during the month_"
   ]
  },
  {
   "cell_type": "code",
   "execution_count": 24,
   "metadata": {
    "id": "JytUB830dv61"
   },
   "outputs": [
    {
     "data": {
      "text/plain": [
       "Text(0.5, 1.0, 'driver km drives')"
      ]
     },
     "execution_count": 24,
     "metadata": {},
     "output_type": "execute_result"
    },
    {
     "data": {
      "image/png": "[encoded data removed]",
      "text/plain": [
       "<Figure size 360x144 with 1 Axes>"
      ]
     },
     "metadata": {
      "needs_background": "light"
     },
     "output_type": "display_data"
    }
   ],
   "source": [
    "# Box plot\n",
    "### YOUR CODE HERE ###\n",
    "plt.figure(figsize=(5,2))\n",
    "sns.boxplot(x=df['driven_km_drives'], fliersize=1)\n",
    "plt.title('driver km drives')"
   ]
  },
  {
   "cell_type": "code",
   "execution_count": 25,
   "metadata": {
    "id": "X3tD7KmhfBz8"
   },
   "outputs": [
    {
     "data": {
      "image/png": "[encoded data removed]",
      "text/plain": [
       "<Figure size 360x216 with 1 Axes>"
      ]
     },
     "metadata": {
      "needs_background": "light"
     },
     "output_type": "display_data"
    }
   ],
   "source": [
    "# Histogram\n",
    "### YOUR CODE HERE ###\n",
    "histogrammer('driven_km_drives')"
   ]
  },
  {
   "cell_type": "markdown",
   "metadata": {
    "id": "qmj8rhs1fFsD"
   },
   "source": [
    "Jumlah perjalanan yang ditempuh dalam sebulan terakhir per pengguna menyerupai distribusi normal miring ke kanan dengan separuh pengguna mengemudi di bawah 3.495 kilometer. Seperti yang Anda temukan dalam analisis dari kursus sebelumnya, pengguna dalam kumpulan data ini mendorong _a lot_. Jarak terjauh yang ditempuh dalam sebulan adalah lebih dari setengah lingkar bumi."
   ]
  },
  {
   "cell_type": "markdown",
   "metadata": {
    "id": "UUAqCCtTfGbJ"
   },
   "source": [
    "#### **`duration_minutes_drives`**\n",
    "\n",
    "_Total duration driven in minutes during the month_"
   ]
  },
  {
   "cell_type": "code",
   "execution_count": 26,
   "metadata": {
    "id": "ElNBoyu9fG8z"
   },
   "outputs": [
    {
     "data": {
      "text/plain": [
       "Text(0.5, 1.0, 'duration minutes drives')"
      ]
     },
     "execution_count": 26,
     "metadata": {},
     "output_type": "execute_result"
    },
    {
     "data": {
      "image/png": "[encoded data removed]",
      "text/plain": [
       "<Figure size 360x144 with 1 Axes>"
      ]
     },
     "metadata": {
      "needs_background": "light"
     },
     "output_type": "display_data"
    }
   ],
   "source": [
    "# Box plot\n",
    "### YOUR CODE HERE ###\n",
    "plt.figure(figsize=(5,2))\n",
    "sns.boxplot(x=df['duration_minutes_drives'], fliersize=1)\n",
    "plt.title('duration minutes drives')"
   ]
  },
  {
   "cell_type": "code",
   "execution_count": 27,
   "metadata": {
    "id": "7z4ajJJFfHoN"
   },
   "outputs": [
    {
     "data": {
      "image/png": "[encoded data removed]",
      "text/plain": [
       "<Figure size 360x216 with 1 Axes>"
      ]
     },
     "metadata": {
      "needs_background": "light"
     },
     "output_type": "display_data"
    }
   ],
   "source": [
    "# Histogram\n",
    "### YOUR CODE HERE ###\n",
    "histogrammer('duration_minutes_drives')"
   ]
  },
  {
   "cell_type": "markdown",
   "metadata": {
    "id": "lXRWnXA5fcmn"
   },
   "source": [
    "Variabel `duration_minutes_drives` memiliki distribusi normal dengan ekor kanan yang sangat miring. Separuh dari pengguna mengemudi kurang dari \\~1.478 menit (\\~25 jam), tetapi beberapa pengguna berkendara lebih dari 250 jam selama sebulan."
   ]
  },
  {
   "cell_type": "markdown",
   "metadata": {
    "id": "sJ-5zhujfcXb"
   },
   "source": [
    "#### **`activity_days`**\n",
    "\n",
    "_Number of days the user opens the app during the month_"
   ]
  },
  {
   "cell_type": "code",
   "execution_count": 28,
   "metadata": {
    "id": "rpy9NzemfkDz"
   },
   "outputs": [
    {
     "data": {
      "text/plain": [
       "Text(0.5, 1.0, 'activity days')"
      ]
     },
     "execution_count": 28,
     "metadata": {},
     "output_type": "execute_result"
    },
    {
     "data": {
      "image/png": "[encoded data removed]",
      "text/plain": [
       "<Figure size 360x144 with 1 Axes>"
      ]
     },
     "metadata": {
      "needs_background": "light"
     },
     "output_type": "display_data"
    }
   ],
   "source": [
    "# Box plot\n",
    "### YOUR CODE HERE ###\n",
    "plt.figure(figsize=(5,2))\n",
    "sns.boxplot(x=df['activity_days'],fliersize=1)\n",
    "plt.title('activity days')"
   ]
  },
  {
   "cell_type": "code",
   "execution_count": 29,
   "metadata": {
    "id": "JTdGJbmffqNK"
   },
   "outputs": [
    {
     "data": {
      "image/png": "[encoded data removed]",
      "text/plain": [
       "<Figure size 360x216 with 1 Axes>"
      ]
     },
     "metadata": {
      "needs_background": "light"
     },
     "output_type": "display_data"
    }
   ],
   "source": [
    "# Histogram\n",
    "### YOUR CODE HERE ###\n",
    "histogrammer('activity_days')"
   ]
  },
  {
   "cell_type": "markdown",
   "metadata": {
    "id": "eRkkqv1xfrPN"
   },
   "source": [
    "Dalam sebulan terakhir, pengguna membuka aplikasi rata-rata 16 kali. Plot kotak mengungkapkan distribusi terpusat. Histogram menunjukkan distribusi yang hampir seragam dari ~500 orang yang membuka aplikasi pada setiap hitungan hari. Namun, ada ~250 orang yang tidak membuka aplikasi sama sekali dan ~250 orang yang membuka aplikasi setiap hari dalam sebulan.\n",
    "\n",
    "Distribusi ini patut diperhatikan karena tidak mencerminkan distribusi `sessions`, yang mungkin menurut Anda berkorelasi erat dengan `activity_days`."
   ]
  },
  {
   "cell_type": "markdown",
   "metadata": {
    "id": "fbbqVbBFfrBP"
   },
   "source": [
    "#### **`driving_days`**\n",
    "\n",
    "_Number of days the user drives (at least 1 km) during the month_"
   ]
  },
  {
   "cell_type": "code",
   "execution_count": 30,
   "metadata": {
    "id": "hhn-402gf3ff"
   },
   "outputs": [
    {
     "data": {
      "text/plain": [
       "Text(0.5, 1.0, 'driving days')"
      ]
     },
     "execution_count": 30,
     "metadata": {},
     "output_type": "execute_result"
    },
    {
     "data": {
      "image/png": "[encoded data removed]",
      "text/plain": [
       "<Figure size 360x144 with 1 Axes>"
      ]
     },
     "metadata": {
      "needs_background": "light"
     },
     "output_type": "display_data"
    }
   ],
   "source": [
    "# Box plot\n",
    "### YOUR CODE HERE ###\n",
    "plt.figure(figsize=(5,2))\n",
    "sns.boxplot(x=df['driving_days'], fliersize=1)\n",
    "plt.title('driving days')"
   ]
  },
  {
   "cell_type": "code",
   "execution_count": 31,
   "metadata": {
    "id": "Yi9bkUS2f37N"
   },
   "outputs": [
    {
     "data": {
      "image/png": "[encoded data removed]",
      "text/plain": [
       "<Figure size 360x216 with 1 Axes>"
      ]
     },
     "metadata": {
      "needs_background": "light"
     },
     "output_type": "display_data"
    }
   ],
   "source": [
    "# Histogram\n",
    "### YOUR CODE HERE ###\n",
    "histogrammer('driving_days')"
   ]
  },
  {
   "cell_type": "markdown",
   "metadata": {
    "id": "I2p_HuzRf4Xo"
   },
   "source": [
    "Jumlah hari pengguna mengemudi setiap bulan hampir seragam, dan sebagian besar berkorelasi dengan jumlah hari mereka membuka aplikasi pada bulan itu, kecuali distribusi `driving_days` di sebelah kanan.\n",
    "\n",
    "Namun, ada hampir dua kali lebih banyak pengguna (\\~1.000 vs. \\~550) yang tidak mengemudi sama sekali selama sebulan. Ini mungkin tampak berlawanan dengan intuisi jika dipertimbangkan bersama dengan informasi dari `activity_days`. Variabel tersebut memiliki \\~500 pengguna yang membuka aplikasi hampir setiap hari, tetapi hanya ada \\~250 pengguna yang tidak membuka aplikasi sama sekali selama sebulan dan ~250 pengguna yang membuka aplikasi setiap hari. Tandai ini untuk penyelidikan lebih lanjut nanti."
   ]
  },
  {
   "cell_type": "markdown",
   "metadata": {
    "id": "-TmcckFcgDLK"
   },
   "source": [
    "#### **`device`**\n",
    "\n",
    "_The type of device a user starts a session with_\n",
    "\n",
    "This is a categorical variable, so you do not plot a box plot for it. A good plot for a binary categorical variable is a pie chart."
   ]
  },
  {
   "cell_type": "code",
   "execution_count": 33,
   "metadata": {
    "id": "evNrxWWQgDuN"
   },
   "outputs": [
    {
     "data": {
      "text/plain": [
       "Text(0.5, 1.0, 'User by device')"
      ]
     },
     "execution_count": 33,
     "metadata": {},
     "output_type": "execute_result"
    },
    {
     "data": {
      "image/png": "[encoded data removed]",
      "text/plain": [
       "<Figure size 360x360 with 1 Axes>"
      ]
     },
     "metadata": {},
     "output_type": "display_data"
    }
   ],
   "source": [
    "# Pie chart\n",
    "### YOUR CODE HERE ###\n",
    "# pie chart\n",
    "fig = plt.figure(figsize=(5,5))\n",
    "data = df['device'].value_counts()\n",
    "plt.pie(data,\n",
    "        labels=[f'{data.index[0]}: {data.values[0]}',\n",
    "               f'{data.index[1]}: {data.values[1]}'],\n",
    "       autopct='%1.1f%%')\n",
    "plt.title('User by device')"
   ]
  },
  {
   "cell_type": "markdown",
   "metadata": {
    "id": "m7NuKItJgEh2"
   },
   "source": [
    "Ada hampir dua kali lebih banyak pengguna iPhone daripada pengguna Android yang terwakili dalam data ini."
   ]
  },
  {
   "cell_type": "markdown",
   "metadata": {
    "id": "VJH5j71RgViQ"
   },
   "source": [
    "#### **`label`**\n",
    "\n",
    "_Variabel target biner (“dipertahankan” vs “churned”) jika pengguna telah melakukan churn kapan saja selama bulan tersebut_\n",
    "\n",
    "Ini juga merupakan variabel kategori, dan dengan demikian tidak akan diplot sebagai plot kotak. Plot diagram lingkaran sebagai gantinya."
   ]
  },
  {
   "cell_type": "code",
   "execution_count": 35,
   "metadata": {
    "id": "MQ1nVQIBgWOv"
   },
   "outputs": [
    {
     "data": {
      "image/png": "[encoded data removed]",
      "text/plain": [
       "<Figure size 216x216 with 1 Axes>"
      ]
     },
     "metadata": {},
     "output_type": "display_data"
    }
   ],
   "source": [
    "# Pie chart\n",
    "### YOUR CODE HERE ###\n",
    "# Pie chart\n",
    "fig = plt.figure(figsize=(3,3))\n",
    "data=df['label'].value_counts()\n",
    "plt.pie(data,\n",
    "        labels=[f'{data.index[0]}: {data.values[0]}',\n",
    "                f'{data.index[1]}: {data.values[1]}'],\n",
    "        autopct='%1.1f%%'\n",
    "        )\n",
    "plt.title('Jumlah customer dipertahankan(retained) dan tidak dipertahankan(churn)');"
   ]
  },
  {
   "cell_type": "markdown",
   "metadata": {
    "id": "cmM8NrSYghlg"
   },
   "source": [
    "Kurang dari 18% pengguna yang melakukan churn."
   ]
  },
  {
   "cell_type": "markdown",
   "metadata": {
    "id": "cRsY_TYPgik5"
   },
   "source": [
    "#### **`driving_days` vs. `activity_days`**\n",
    "\n",
    "Karena `driving_days` dan `activity_days` mewakili jumlah hari selama sebulan dan keduanya juga terkait erat, Anda dapat memplotnya bersama dalam satu histogram. Ini akan membantu untuk lebih memahami bagaimana mereka berhubungan satu sama lain tanpa harus menggulir bolak-balik membandingkan histogram di dua tempat berbeda.\n",
    "\n",
    "Plot histogram yang, untuk setiap hari, memiliki bilah yang mewakili jumlah `driving_days` dan `user_days`."
   ]
  },
  {
   "cell_type": "code",
   "execution_count": 36,
   "metadata": {
    "id": "Ly1sNysEgjFc"
   },
   "outputs": [
    {
     "data": {
      "text/plain": [
       "Text(0.5, 1.0, 'driving_days vs activity_days')"
      ]
     },
     "execution_count": 36,
     "metadata": {},
     "output_type": "execute_result"
    },
    {
     "data": {
      "image/png": "[encoded data removed]",
      "text/plain": [
       "<Figure size 864x288 with 1 Axes>"
      ]
     },
     "metadata": {
      "needs_background": "light"
     },
     "output_type": "display_data"
    }
   ],
   "source": [
    "# Histogram\n",
    "### YOUR CODE HERE ###\n",
    "plt.figure(figsize=(12,4))\n",
    "label=['driving days', 'activity days']\n",
    "plt.hist([df['driving_days'], df['activity_days']],\n",
    "        bins=range(0,33),\n",
    "        label=label)\n",
    "plt.xlabel('days')\n",
    "plt.ylabel('count')\n",
    "plt.legend()\n",
    "plt.title('driving_days vs activity_days')"
   ]
  },
  {
   "cell_type": "markdown",
   "metadata": {
    "id": "8kQS1OzIgzhF"
   },
   "source": [
    "Seperti yang diamati sebelumnya, ini mungkin tampak berlawanan dengan intuisi. Lagi pula, mengapa ada _lebih sedikit_ orang yang tidak menggunakan aplikasi sama sekali selama sebulan dan _lebih_ orang yang tidak mengemudi sama sekali selama sebulan?\n",
    "\n",
    "Di sisi lain, ini hanya bisa menggambarkan fakta bahwa, meskipun variabel-variabel ini terkait satu sama lain, mereka tidak sama. Orang-orang mungkin lebih sering membuka aplikasi daripada menggunakan aplikasi untuk mengemudi&mdash;mungkin untuk memeriksa waktu mengemudi atau informasi rute, memperbarui setelan, atau bahkan hanya karena kesalahan.\n",
    "\n",
    "Meskipun demikian, mungkin ada baiknya menghubungi tim data di Waze untuk mendapatkan informasi lebih lanjut tentang hal ini, terutama karena tampaknya jumlah hari dalam sebulan tidak sama antar variabel.\n",
    "\n",
    "Konfirmasikan jumlah hari maksimum untuk setiap variabel&mdash;`driving_days` dan `activity_days`."
   ]
  },
  {
   "cell_type": "code",
   "execution_count": 37,
   "metadata": {
    "id": "ZY266xXxg-rO"
   },
   "outputs": [
    {
     "name": "stdout",
     "output_type": "stream",
     "text": [
      "30\n",
      "31\n"
     ]
    }
   ],
   "source": [
    "### YOUR CODE HERE ###\n",
    "print(df['driving_days'].max())\n",
    "print(df['activity_days'].max())"
   ]
  },
  {
   "cell_type": "markdown",
   "metadata": {
    "id": "oBEq9YwChEGx"
   },
   "source": [
    "Itu benar. Meskipun mungkin tidak ada satu pengguna pun yang mengemudi selama 31 hari dalam sebulan, kemungkinannya sangat kecil, mengingat ada 15.000 orang yang terwakili dalam kumpulan data.\n",
    "\n",
    "Salah satu cara lain untuk memeriksa validitas variabel-variabel ini adalah dengan memplot plot pencar sederhana dengan sumbu x mewakili satu variabel dan sumbu y mewakili variabel lainnya."
   ]
  },
  {
   "cell_type": "code",
   "execution_count": 38,
   "metadata": {
    "id": "I4VMyxguhFBV"
   },
   "outputs": [
    {
     "data": {
      "text/plain": [
       "[<matplotlib.lines.Line2D at 0x7f5192207490>]"
      ]
     },
     "execution_count": 38,
     "metadata": {},
     "output_type": "execute_result"
    },
    {
     "data": {
      "image/png": "[encoded data removed]",
      "text/plain": [
       "<Figure size 432x288 with 1 Axes>"
      ]
     },
     "metadata": {
      "needs_background": "light"
     },
     "output_type": "display_data"
    }
   ],
   "source": [
    "# Scatter plot\n",
    "### YOUR CODE HERE ###\n",
    "sns.scatterplot(data=df, x='driving_days', y='activity_days')\n",
    "plt.title('driving_days vs activity_days')\n",
    "plt.plot([0,31],[0,31],color='red',linestyle='--')"
   ]
  },
  {
   "cell_type": "markdown",
   "metadata": {
    "id": "DWO3ljhFhG-e"
   },
   "source": [
    "Perhatikan bahwa ada batasan teoretis. Jika Anda menggunakan aplikasi untuk mengemudi, maka menurut definisi itu juga harus dihitung sebagai penggunaan sehari-hari. Dengan kata lain, Anda tidak dapat memiliki lebih banyak hari mengemudi daripada hari aktivitas. Tidak ada sampel dalam data ini yang melanggar aturan ini, dan itu bagus."
   ]
  },
  {
   "cell_type": "markdown",
   "metadata": {
    "id": "bcZkCH5WhVfE"
   },
   "source": [
    "#### **Retensi menurut perangkat**\n",
    "\n",
    "Plot histogram yang memiliki empat batang&mdash;satu untuk setiap kombinasi label perangkat&mdash;untuk menunjukkan berapa banyak pengguna iPhone yang dipertahankan/dihapus dan berapa banyak pengguna Android yang dipertahankan/dihapus."
   ]
  },
  {
   "cell_type": "code",
   "execution_count": 39,
   "metadata": {
    "id": "75uHBjB1hZIl"
   },
   "outputs": [
    {
     "data": {
      "text/plain": [
       "Text(0.5, 1.0, 'Retention by device histogram')"
      ]
     },
     "execution_count": 39,
     "metadata": {},
     "output_type": "execute_result"
    },
    {
     "data": {
      "image/png": "[encoded data removed]",
      "text/plain": [
       "<Figure size 720x360 with 1 Axes>"
      ]
     },
     "metadata": {
      "needs_background": "light"
     },
     "output_type": "display_data"
    }
   ],
   "source": [
    "# Histogram\n",
    "### YOUR CODE HERE ###\n",
    "plt.figure(figsize=(10,5))\n",
    "sns.histplot(data=df,\n",
    "            x='device',\n",
    "            hue='label',\n",
    "            multiple='dodge',\n",
    "            shrink=0.9)\n",
    "plt.title('Retention by device histogram')"
   ]
  },
  {
   "cell_type": "markdown",
   "metadata": {
    "id": "sVOvIbG-hZg-"
   },
   "source": [
    "Proporsi pengguna churn terhadap pengguna tetap konsisten di antara jenis perangkat."
   ]
  },
  {
   "cell_type": "markdown",
   "metadata": {
    "id": "TMYRLh8EhhuK"
   },
   "source": [
    "#### **Retensi menurut kilometer yang ditempuh per hari mengemudi**\n",
    "\n",
    "Di kursus sebelumnya, Anda menemukan bahwa jarak rata-rata yang ditempuh bulan lalu untuk pengguna yang melakukan churn adalah 8,33 km, dibandingkan 3,36 km untuk pengguna yang tidak churn. Periksa ini lebih lanjut.\n",
    "\n",
    "1. Buat kolom baru di `df` bernama `km_per_driving_day`, yang mewakili jarak rata-rata yang ditempuh per hari mengemudi untuk setiap pengguna.\n",
    "\n",
    "2. Panggil metode `describe()` pada kolom baru."
   ]
  },
  {
   "cell_type": "code",
   "execution_count": 40,
   "metadata": {
    "id": "6IONTyaHhipo"
   },
   "outputs": [
    {
     "data": {
      "text/plain": [
       "count    1.499900e+04\n",
       "mean              inf\n",
       "std               NaN\n",
       "min      3.022063e+00\n",
       "25%      1.672804e+02\n",
       "50%      3.231459e+02\n",
       "75%      7.579257e+02\n",
       "max               inf\n",
       "Name: km_per_driving_day, dtype: float64"
      ]
     },
     "execution_count": 40,
     "metadata": {},
     "output_type": "execute_result"
    }
   ],
   "source": [
    "# 1. Create `km_per_driving_day` column\n",
    "### YOUR CODE HERE ###\n",
    "df['km_per_driving_day'] = df['driven_km_drives'] / df['driving_days']\n",
    "# 2. Call `describe()` on the new column\n",
    "### YOUR CODE HERE ###\n",
    "df['km_per_driving_day'].describe()"
   ]
  },
  {
   "cell_type": "markdown",
   "metadata": {
    "id": "DVCP1F9thspa"
   },
   "source": [
    "Nilai maksimumnya adalah 15.420 kilometer _per hari berkendara_. Ini secara fisik tidak mungkin. Mengemudi 100 km/jam selama 12 jam adalah 1.200 km. Tidak mungkin banyak orang rata-rata lebih dari ini setiap hari mereka berkendara, jadi, untuk saat ini, abaikan baris yang jaraknya di kolom ini lebih dari 1.200 km.\n",
    "\n",
    "Plot histogram kolom `km_per_driving_day` yang baru, dengan mengabaikan pengguna tersebut dengan nilai lebih dari 1.200 km. Setiap bilah harus memiliki panjang yang sama dan memiliki dua warna, satu warna mewakili persentase pengguna di bilah tersebut yang bergejolak dan warna lainnya mewakili persentase yang dipertahankan. Hal ini dapat dilakukan dengan menyetel parameter `multiple` dari fungsi [`histplot()`](https://seaborn.pydata.org/generated/seaborn.histplot.html) seaborn ke `fill`."
   ]
  },
  {
   "cell_type": "code",
   "execution_count": 41,
   "metadata": {
    "id": "8ntKu1bAhxhA"
   },
   "outputs": [
    {
     "data": {
      "text/plain": [
       "Text(0.5, 1.0, 'Churn rate by mean km per driving day')"
      ]
     },
     "execution_count": 41,
     "metadata": {},
     "output_type": "execute_result"
    },
    {
     "data": {
      "image/png": "[encoded data removed]",
      "text/plain": [
       "<Figure size 864x360 with 1 Axes>"
      ]
     },
     "metadata": {
      "needs_background": "light"
     },
     "output_type": "display_data"
    }
   ],
   "source": [
    "# Histogram\n",
    "### YOUR CODE HERE ###\n",
    "plt.figure(figsize=(12,5))\n",
    "sns.histplot(data=df,\n",
    "            x='km_per_driving_day',\n",
    "            bins=range(0,1201,20),\n",
    "            hue='label',\n",
    "            multiple='fill')\n",
    "plt.ylabel('%', rotation=0)\n",
    "plt.title('Churn rate by mean km per driving day')"
   ]
  },
  {
   "cell_type": "markdown",
   "metadata": {
    "id": "cD8icOhNh9zD"
   },
   "source": [
    "Tingkat churn cenderung meningkat seiring peningkatan rata-rata jarak harian yang didorong, mengkonfirmasikan apa yang ditemukan di kursus sebelumnya. Sebaiknya selidiki lebih lanjut alasan pengguna jarak jauh untuk berhenti menggunakan aplikasi."
   ]
  },
  {
   "cell_type": "markdown",
   "metadata": {
    "id": "bKK1y7xTh-xY"
   },
   "source": [
    "#### **Churn rate per jumlah hari mengemudi**\n",
    "\n",
    "Buat histogram lain seperti yang sebelumnya, hanya saja kali ini harus mewakili tingkat churn untuk setiap jumlah hari mengemudi."
   ]
  },
  {
   "cell_type": "code",
   "execution_count": 43,
   "metadata": {
    "id": "GPc4nj-7iDPB"
   },
   "outputs": [
    {
     "data": {
      "text/plain": [
       "Text(0.5, 1.0, 'Churn rate per driving day')"
      ]
     },
     "execution_count": 43,
     "metadata": {},
     "output_type": "execute_result"
    },
    {
     "data": {
      "image/png": "[encoded data removed]",
      "text/plain": [
       "<Figure size 864x288 with 1 Axes>"
      ]
     },
     "metadata": {
      "needs_background": "light"
     },
     "output_type": "display_data"
    }
   ],
   "source": [
    "# Histogram\n",
    "### YOUR CODE HERE ###\n",
    "plt.figure(figsize=(12,4))\n",
    "sns.histplot(data=df,\n",
    "            x='driving_days',\n",
    "            hue='label',\n",
    "            multiple='fill',\n",
    "            discrete='True')\n",
    "plt.ylabel('%', rotation=0)\n",
    "plt.title('Churn rate per driving day')"
   ]
  },
  {
   "cell_type": "markdown",
   "metadata": {
    "id": "RUD5Bf6yiDoa"
   },
   "source": [
    "Tingkat churn paling tinggi untuk orang yang tidak banyak menggunakan Waze selama sebulan terakhir. Semakin sering mereka menggunakan aplikasi, semakin kecil kemungkinan mereka melakukan churn. Sementara 40% pengguna yang tidak menggunakan aplikasi sama sekali bulan lalu mengalami churn, tidak seorang pun yang menggunakan aplikasi selama 30 hari mengalami churn.\n",
    "\n",
    "Ini tidak mengherankan. Jika orang-orang yang sering menggunakan aplikasi tersebut melakukan churn, kemungkinan itu menunjukkan ketidakpuasan. Ketika orang yang tidak menggunakan aplikasi churn, itu mungkin hasil dari ketidakpuasan di masa lalu, atau mungkin menunjukkan kebutuhan yang lebih rendah untuk aplikasi navigasi. Mungkin mereka pindah ke kota dengan transportasi umum yang bagus dan tidak perlu menyetir lagi."
   ]
  },
  {
   "cell_type": "markdown",
   "metadata": {
    "id": "75ncCHO7iEFi"
   },
   "source": [
    "#### **Proporsi sesi yang terjadi dalam sebulan terakhir**\n",
    "\n",
    "Buat kolom baru `percent_sessions_in_last_month` yang mewakili persentase total sesi setiap pengguna yang dicatat dalam bulan terakhir penggunaan mereka."
   ]
  },
  {
   "cell_type": "code",
   "execution_count": 44,
   "metadata": {
    "id": "NyXwJMJTiSdK"
   },
   "outputs": [],
   "source": [
    "### YOUR CODE HERE ###\n",
    "df['percent_sessions_in_last_month'] = df['sessions']/df['total_sessions']"
   ]
  },
  {
   "cell_type": "markdown",
   "metadata": {
    "id": "w30I7A3UiWQD"
   },
   "source": [
    "What is the median value of the new column?"
   ]
  },
  {
   "cell_type": "code",
   "execution_count": 45,
   "metadata": {
    "id": "3wa8IZ7UiS5l"
   },
   "outputs": [
    {
     "data": {
      "text/plain": [
       "0.42309702992763176"
      ]
     },
     "execution_count": 45,
     "metadata": {},
     "output_type": "execute_result"
    }
   ],
   "source": [
    "### YOUR CODE HERE ###\n",
    "df['percent_sessions_in_last_month'].median()"
   ]
  },
  {
   "cell_type": "markdown",
   "metadata": {
    "id": "8EKHSAnXiaIY"
   },
   "source": [
    "Now, create a histogram depicting the distribution of values in this new column."
   ]
  },
  {
   "cell_type": "code",
   "execution_count": 46,
   "metadata": {
    "id": "9NtRmPHpieC3"
   },
   "outputs": [
    {
     "name": "stdout",
     "output_type": "stream",
     "text": [
      "Median: 0.4\n"
     ]
    },
    {
     "data": {
      "image/png": "[encoded data removed]",
      "text/plain": [
       "<Figure size 360x216 with 1 Axes>"
      ]
     },
     "metadata": {
      "needs_background": "light"
     },
     "output_type": "display_data"
    }
   ],
   "source": [
    "# Histogram\n",
    "### YOUR CODE HERE ###\n",
    "'''plt.figure(figsize=(14,4))\n",
    "sns.histplot(data=df,\n",
    "            x='percent_sessions_in_last_month',\n",
    "            hue='label',\n",
    "            multiple='fill',\n",
    "            discrete='True')\n",
    "plt.ylabel('%', rotation=0)\n",
    "plt.title('')'''\n",
    "histogrammer('percent_sessions_in_last_month',\n",
    "             hue=df['label'],\n",
    "             multiple='layer',\n",
    "             median_text=False)"
   ]
  },
  {
   "cell_type": "markdown",
   "metadata": {
    "id": "_oSkxrx2iehb"
   },
   "source": [
    "Periksa nilai median variabel `n_days_after_onboarding`."
   ]
  },
  {
   "cell_type": "code",
   "execution_count": 47,
   "metadata": {
    "id": "pHJADu8Mi0u2"
   },
   "outputs": [
    {
     "data": {
      "text/plain": [
       "1741.0"
      ]
     },
     "execution_count": 47,
     "metadata": {},
     "output_type": "execute_result"
    }
   ],
   "source": [
    "### YOUR CODE HERE ###\n",
    "df['n_days_after_onboarding'].median()"
   ]
  },
  {
   "cell_type": "markdown",
   "metadata": {
    "id": "4IFsNT-9izvT"
   },
   "source": [
    "Separuh dari orang-orang dalam kumpulan data memiliki 40% atau lebih sesi mereka hanya dalam sebulan terakhir, namun waktu rata-rata keseluruhan sejak orientasi hampir lima tahun.\n",
    "\n",
    "Buat histogram `n_days_after_onboarding` hanya untuk orang-orang yang memiliki 40% atau lebih dari total sesi mereka dalam sebulan terakhir."
   ]
  },
  {
   "cell_type": "code",
   "execution_count": 48,
   "metadata": {
    "id": "AsycVhNdi-Va"
   },
   "outputs": [
    {
     "data": {
      "text/plain": [
       "Text(0.5, 1.0, 'Num.days after on boarding for users with >=40% sessions in last month')"
      ]
     },
     "execution_count": 48,
     "metadata": {},
     "output_type": "execute_result"
    },
    {
     "data": {
      "image/png": "[encoded data removed]",
      "text/plain": [
       "<Figure size 864x288 with 1 Axes>"
      ]
     },
     "metadata": {
      "needs_background": "light"
     },
     "output_type": "display_data"
    }
   ],
   "source": [
    "# Histogram\n",
    "### YOUR CODE HERE ###\n",
    "data=df.loc[df['percent_sessions_in_last_month']>=0.4]\n",
    "plt.figure(figsize=(12,4))\n",
    "sns.histplot(x=df['n_days_after_onboarding'])\n",
    "plt.title('Num.days after on boarding for users with >=40% sessions in last month')"
   ]
  },
  {
   "cell_type": "markdown",
   "metadata": {
    "id": "flcUGkjUjAqW"
   },
   "source": [
    "Jumlah hari sejak orientasi untuk pengguna dengan 40% atau lebih dari total sesi mereka terjadi hanya dalam sebulan terakhir adalah distribusi yang seragam. Ini sangat aneh. Waze patut ditanyakan mengapa begitu banyak pengguna lama tiba-tiba menggunakan aplikasi ini begitu banyak dalam sebulan terakhir."
   ]
  },
  {
   "cell_type": "markdown",
   "metadata": {
    "id": "O0zL7Nd0jMYS"
   },
   "source": [
    "### **Tugas 3b. Menangani outlier**\n",
    "\n",
    "Plot kotak dari bagian sebelumnya menunjukkan bahwa banyak dari variabel ini memiliki outlier. Penyimpangan ini tampaknya bukan merupakan kesalahan entri data; mereka hadir karena distribusi miring ke kanan.\n",
    "\n",
    "Bergantung pada apa yang akan Anda lakukan dengan data ini, mungkin berguna untuk menghubungkan data luar dengan nilai yang lebih masuk akal. Salah satu cara untuk melakukan imputasi ini adalah dengan menetapkan ambang berdasarkan persentil dari distribusi.\n",
    "\n",
    "Untuk mempraktikkan teknik ini, tulislah fungsi yang menghitung persentil ke-95 dari kolom tertentu, lalu memasukkan nilai > persentil ke-95 dengan nilai pada persentil ke-95. seperti persentil ke-95 dari distribusi."
   ]
  },
  {
   "cell_type": "code",
   "execution_count": 58,
   "metadata": {
    "id": "4Ki9T-m7jsGy"
   },
   "outputs": [],
   "source": [
    "### YOUR CODE HERE ###\n",
    "def outlier_imputer(column_name, percentile):\n",
    "    # menghitung treshold\n",
    "    treshold = df[column_name].quantile(percentile)\n",
    "    # impute treshold for values > than treshold\n",
    "    df.loc[df[column_name] > treshold, column_name] = treshold\n",
    "    \n",
    "    print('{:>25} | percentile: {} | treshold: {}'.format(column_name, percentile, treshold))"
   ]
  },
  {
   "cell_type": "markdown",
   "metadata": {
    "id": "nsdi-4dSkmMF"
   },
   "source": [
    "Selanjutnya, terapkan fungsi itu ke kolom berikut:\n",
    "* `sesi`\n",
    "* `mengemudi`\n",
    "* `total_sessions`\n",
    "* `driven_km_drives`\n",
    "* `duration_minutes_drives`"
   ]
  },
  {
   "cell_type": "code",
   "execution_count": 59,
   "metadata": {
    "id": "f6_TKdIHjtS9"
   },
   "outputs": [
    {
     "name": "stdout",
     "output_type": "stream",
     "text": [
      "                 sessions | percentile: 0.95 | treshold: 243.0\n",
      "                   drives | percentile: 0.95 | treshold: 201.0\n",
      "           total_sessions | percentile: 0.95 | treshold: 454.3632037399997\n",
      "         driven_km_drives | percentile: 0.95 | treshold: 8889.7942356\n",
      "  duration_minutes_drives | percentile: 0.95 | treshold: 4668.899348999999\n"
     ]
    }
   ],
   "source": [
    "for column in ['sessions', 'drives', 'total_sessions',\n",
    "               'driven_km_drives', 'duration_minutes_drives']:\n",
    "               outlier_imputer(column, 0.95)"
   ]
  },
  {
   "cell_type": "markdown",
   "metadata": {
    "id": "_Az4Ma-xj3K4"
   },
   "source": [
    "Call `describe()` to see if your change worked."
   ]
  },
  {
   "cell_type": "code",
   "execution_count": 60,
   "metadata": {
    "id": "IXQkG9RekP85"
   },
   "outputs": [
    {
     "data": {
      "text/html": [
       "<div>\n",
       "<style scoped>\n",
       "    .dataframe tbody tr th:only-of-type {\n",
       "        vertical-align: middle;\n",
       "    }\n",
       "\n",
       "    .dataframe tbody tr th {\n",
       "        vertical-align: top;\n",
       "    }\n",
       "\n",
       "    .dataframe thead th {\n",
       "        text-align: right;\n",
       "    }\n",
       "</style>\n",
       "<table border=\"1\" class=\"dataframe\">\n",
       "  <thead>\n",
       "    <tr style=\"text-align: right;\">\n",
       "      <th></th>\n",
       "      <th>ID</th>\n",
       "      <th>sessions</th>\n",
       "      <th>drives</th>\n",
       "      <th>total_sessions</th>\n",
       "      <th>n_days_after_onboarding</th>\n",
       "      <th>total_navigations_fav1</th>\n",
       "      <th>total_navigations_fav2</th>\n",
       "      <th>driven_km_drives</th>\n",
       "      <th>duration_minutes_drives</th>\n",
       "      <th>activity_days</th>\n",
       "      <th>driving_days</th>\n",
       "      <th>km_per_driving_day</th>\n",
       "      <th>percent_sessions_in_last_month</th>\n",
       "    </tr>\n",
       "  </thead>\n",
       "  <tbody>\n",
       "    <tr>\n",
       "      <th>count</th>\n",
       "      <td>14999.000000</td>\n",
       "      <td>14999.000000</td>\n",
       "      <td>14999.000000</td>\n",
       "      <td>14999.000000</td>\n",
       "      <td>14999.000000</td>\n",
       "      <td>14999.000000</td>\n",
       "      <td>14999.000000</td>\n",
       "      <td>14999.000000</td>\n",
       "      <td>14999.000000</td>\n",
       "      <td>14999.000000</td>\n",
       "      <td>14999.000000</td>\n",
       "      <td>1.499900e+04</td>\n",
       "      <td>14999.000000</td>\n",
       "    </tr>\n",
       "    <tr>\n",
       "      <th>mean</th>\n",
       "      <td>7499.000000</td>\n",
       "      <td>76.568705</td>\n",
       "      <td>64.058204</td>\n",
       "      <td>184.031320</td>\n",
       "      <td>1749.837789</td>\n",
       "      <td>121.605974</td>\n",
       "      <td>29.672512</td>\n",
       "      <td>3939.632764</td>\n",
       "      <td>1789.647426</td>\n",
       "      <td>15.537102</td>\n",
       "      <td>12.179879</td>\n",
       "      <td>inf</td>\n",
       "      <td>0.449255</td>\n",
       "    </tr>\n",
       "    <tr>\n",
       "      <th>std</th>\n",
       "      <td>4329.982679</td>\n",
       "      <td>67.297958</td>\n",
       "      <td>55.306924</td>\n",
       "      <td>118.600463</td>\n",
       "      <td>1008.513876</td>\n",
       "      <td>148.121544</td>\n",
       "      <td>45.394651</td>\n",
       "      <td>2216.041510</td>\n",
       "      <td>1222.705167</td>\n",
       "      <td>9.004655</td>\n",
       "      <td>7.824036</td>\n",
       "      <td>NaN</td>\n",
       "      <td>0.286919</td>\n",
       "    </tr>\n",
       "    <tr>\n",
       "      <th>min</th>\n",
       "      <td>0.000000</td>\n",
       "      <td>0.000000</td>\n",
       "      <td>0.000000</td>\n",
       "      <td>0.220211</td>\n",
       "      <td>4.000000</td>\n",
       "      <td>0.000000</td>\n",
       "      <td>0.000000</td>\n",
       "      <td>60.441250</td>\n",
       "      <td>18.282082</td>\n",
       "      <td>0.000000</td>\n",
       "      <td>0.000000</td>\n",
       "      <td>3.022063e+00</td>\n",
       "      <td>0.000000</td>\n",
       "    </tr>\n",
       "    <tr>\n",
       "      <th>25%</th>\n",
       "      <td>3749.500000</td>\n",
       "      <td>23.000000</td>\n",
       "      <td>20.000000</td>\n",
       "      <td>90.661156</td>\n",
       "      <td>878.000000</td>\n",
       "      <td>9.000000</td>\n",
       "      <td>0.000000</td>\n",
       "      <td>2212.600607</td>\n",
       "      <td>835.996260</td>\n",
       "      <td>8.000000</td>\n",
       "      <td>5.000000</td>\n",
       "      <td>1.672804e+02</td>\n",
       "      <td>0.196221</td>\n",
       "    </tr>\n",
       "    <tr>\n",
       "      <th>50%</th>\n",
       "      <td>7499.000000</td>\n",
       "      <td>56.000000</td>\n",
       "      <td>48.000000</td>\n",
       "      <td>159.568115</td>\n",
       "      <td>1741.000000</td>\n",
       "      <td>71.000000</td>\n",
       "      <td>9.000000</td>\n",
       "      <td>3493.858085</td>\n",
       "      <td>1478.249859</td>\n",
       "      <td>16.000000</td>\n",
       "      <td>12.000000</td>\n",
       "      <td>3.231459e+02</td>\n",
       "      <td>0.423097</td>\n",
       "    </tr>\n",
       "    <tr>\n",
       "      <th>75%</th>\n",
       "      <td>11248.500000</td>\n",
       "      <td>112.000000</td>\n",
       "      <td>93.000000</td>\n",
       "      <td>254.192341</td>\n",
       "      <td>2623.500000</td>\n",
       "      <td>178.000000</td>\n",
       "      <td>43.000000</td>\n",
       "      <td>5289.861262</td>\n",
       "      <td>2464.362632</td>\n",
       "      <td>23.000000</td>\n",
       "      <td>19.000000</td>\n",
       "      <td>7.579257e+02</td>\n",
       "      <td>0.687216</td>\n",
       "    </tr>\n",
       "    <tr>\n",
       "      <th>max</th>\n",
       "      <td>14998.000000</td>\n",
       "      <td>243.000000</td>\n",
       "      <td>201.000000</td>\n",
       "      <td>454.363204</td>\n",
       "      <td>3500.000000</td>\n",
       "      <td>1236.000000</td>\n",
       "      <td>415.000000</td>\n",
       "      <td>8889.794236</td>\n",
       "      <td>4668.899349</td>\n",
       "      <td>31.000000</td>\n",
       "      <td>30.000000</td>\n",
       "      <td>inf</td>\n",
       "      <td>1.530637</td>\n",
       "    </tr>\n",
       "  </tbody>\n",
       "</table>\n",
       "</div>"
      ],
      "text/plain": [
       "                 ID      sessions        drives  total_sessions  \\\n",
       "count  14999.000000  14999.000000  14999.000000    14999.000000   \n",
       "mean    7499.000000     76.568705     64.058204      184.031320   \n",
       "std     4329.982679     67.297958     55.306924      118.600463   \n",
       "min        0.000000      0.000000      0.000000        0.220211   \n",
       "25%     3749.500000     23.000000     20.000000       90.661156   \n",
       "50%     7499.000000     56.000000     48.000000      159.568115   \n",
       "75%    11248.500000    112.000000     93.000000      254.192341   \n",
       "max    14998.000000    243.000000    201.000000      454.363204   \n",
       "\n",
       "       n_days_after_onboarding  total_navigations_fav1  \\\n",
       "count             14999.000000            14999.000000   \n",
       "mean               1749.837789              121.605974   \n",
       "std                1008.513876              148.121544   \n",
       "min                   4.000000                0.000000   \n",
       "25%                 878.000000                9.000000   \n",
       "50%                1741.000000               71.000000   \n",
       "75%                2623.500000              178.000000   \n",
       "max                3500.000000             1236.000000   \n",
       "\n",
       "       total_navigations_fav2  driven_km_drives  duration_minutes_drives  \\\n",
       "count            14999.000000      14999.000000             14999.000000   \n",
       "mean                29.672512       3939.632764              1789.647426   \n",
       "std                 45.394651       2216.041510              1222.705167   \n",
       "min                  0.000000         60.441250                18.282082   \n",
       "25%                  0.000000       2212.600607               835.996260   \n",
       "50%                  9.000000       3493.858085              1478.249859   \n",
       "75%                 43.000000       5289.861262              2464.362632   \n",
       "max                415.000000       8889.794236              4668.899349   \n",
       "\n",
       "       activity_days  driving_days  km_per_driving_day  \\\n",
       "count   14999.000000  14999.000000        1.499900e+04   \n",
       "mean       15.537102     12.179879                 inf   \n",
       "std         9.004655      7.824036                 NaN   \n",
       "min         0.000000      0.000000        3.022063e+00   \n",
       "25%         8.000000      5.000000        1.672804e+02   \n",
       "50%        16.000000     12.000000        3.231459e+02   \n",
       "75%        23.000000     19.000000        7.579257e+02   \n",
       "max        31.000000     30.000000                 inf   \n",
       "\n",
       "       percent_sessions_in_last_month  \n",
       "count                    14999.000000  \n",
       "mean                         0.449255  \n",
       "std                          0.286919  \n",
       "min                          0.000000  \n",
       "25%                          0.196221  \n",
       "50%                          0.423097  \n",
       "75%                          0.687216  \n",
       "max                          1.530637  "
      ]
     },
     "execution_count": 60,
     "metadata": {},
     "output_type": "execute_result"
    }
   ],
   "source": [
    "### YOUR CODE HERE ###\n",
    "df.describe()"
   ]
  },
  {
   "cell_type": "markdown",
   "metadata": {
    "id": "DHwqofOJkQcl"
   },
   "source": [
    "#### **Kesimpulan**\n",
    "\n",
    "Analisis mengungkapkan bahwa tingkat churn keseluruhan adalah \\~17%, dan tingkat ini konsisten antara pengguna iPhone dan pengguna Android.\n",
    "\n",
    "Mungkin Anda merasa bahwa semakin dalam Anda menjelajahi data, semakin banyak pertanyaan yang muncul. Ini tidak biasa! Dalam hal ini, ada baiknya bertanya kepada tim data Waze mengapa begitu banyak pengguna menggunakan aplikasi ini hanya dalam sebulan terakhir.\n",
    "\n",
    "Selain itu, EDA mengungkapkan bahwa pengguna yang mengemudi dalam jarak yang sangat jauh pada hari-hari mengemudi mereka _lebih_ cenderung melakukan churn, tetapi pengguna yang mengemudi lebih sering _kurang_ cenderung churn. Alasan perbedaan ini adalah kesempatan untuk penyelidikan lebih lanjut, dan akan menjadi hal lain untuk ditanyakan kepada tim data Waze."
   ]
  },
  {
   "cell_type": "markdown",
   "metadata": {
    "id": "NsvBtco1x8GN"
   },
   "source": [
    "<img src=\"images/Execute.png\" width=\"100\" height=\"100\" align=left>\n",
    "\n",
    "## **PACE: Execute**\n",
    "\n",
    "Consider the questions in your PACE Strategy Document to reflect on the Execute stage."
   ]
  },
  {
   "cell_type": "markdown",
   "metadata": {
    "id": "csHAfM-RSO7l"
   },
   "source": [
    "### **Tugas 4a. Hasil dan evaluasi**\n",
    "\n",
    "Setelah membuat visualisasi dengan Python, apa yang telah Anda pelajari tentang kumpulan data? Apa pertanyaan lain yang terungkap dalam visualisasi Anda yang harus Anda kejar?\n",
    "\n",
    "**Tips pro:** Tempatkan diri Anda dalam perspektif klien Anda. Apa yang ingin mereka ketahui?\n",
    "\n",
    "Gunakan bidang kode berikut untuk mengejar EDA tambahan berdasarkan visualisasi yang telah Anda rencanakan. Gunakan juga ruang untuk memastikan visualisasi Anda bersih, mudah dipahami, dan dapat diakses.\n",
    "\n",
    "**Tanyakan pada diri sendiri:** Apakah Anda mempertimbangkan warna, kontras, penekanan, dan pelabelan?"
   ]
  },
  {
   "cell_type": "markdown",
   "metadata": {
    "id": "pOp0vmf1zOHO"
   },
   "source": [
    "Aku sudah belajar ....\n",
    "\n",
    "* Ada data yang hilang di label churn pengguna, jadi kami mungkin memerlukan pemrosesan data lebih lanjut sebelum analisis lebih lanjut.\n",
    "* Ada banyak pengamatan luar untuk drive, jadi kami mungkin mempertimbangkan transformasi variabel untuk menstabilkan variasi.\n",
    "* Jumlah drive dan jumlah sesi keduanya berkorelasi kuat, sehingga keduanya dapat memberikan informasi yang berlebihan saat kami menggabungkan keduanya dalam model.\n",
    "* Rata-rata, pengguna yang bertahan memiliki lebih sedikit drive daripada pengguna yang berhenti.\n",
    "\n",
    "Pertanyaan saya yang lain adalah....\n",
    "\n",
    "* Bagaimana munculnya label churn pengguna yang hilang?\n",
    "* Siapa pengguna dengan jumlah drive yang sangat besar? Apakah mereka pengemudi ridesharing atau pengemudi komersial?\n",
    "* Mengapa pengguna yang dipertahankan memiliki lebih sedikit drive daripada pengguna yang di-churn? Apakah karena pengguna yang melakukan churn memiliki riwayat penggunaan aplikasi Waze yang lebih lama?\n",
    "* Apa demografi pengguna untuk pengguna yang dipertahankan dan pengguna yang di-churn?\n",
    "\n",
    "Klien saya mungkin ingin tahu ...\n",
    "\n",
    "* Apa variabel utama yang terkait dengan churn pengguna?\n",
    "* Bisakah kita menerapkan kebijakan untuk mengurangi churn pengguna?"
   ]
  },
  {
   "cell_type": "markdown",
   "metadata": {
    "id": "8DPt8f6Pa2hg"
   },
   "source": [
    "Use the following two code blocks (add more blocks if you like) to do additional EDA you feel is important based on the given scenario."
   ]
  },
  {
   "cell_type": "code",
   "execution_count": 61,
   "metadata": {
    "id": "puYiPmvGdTJH"
   },
   "outputs": [],
   "source": [
    "### YOUR CODE HERE ###\n",
    "df['monthly_drives_per_sessions_ratio'] = (df['drives']/df['sessions'])"
   ]
  },
  {
   "cell_type": "code",
   "execution_count": 62,
   "metadata": {
    "id": "iEv7pHw-dTRP"
   },
   "outputs": [
    {
     "data": {
      "text/html": [
       "<div>\n",
       "<style scoped>\n",
       "    .dataframe tbody tr th:only-of-type {\n",
       "        vertical-align: middle;\n",
       "    }\n",
       "\n",
       "    .dataframe tbody tr th {\n",
       "        vertical-align: top;\n",
       "    }\n",
       "\n",
       "    .dataframe thead th {\n",
       "        text-align: right;\n",
       "    }\n",
       "</style>\n",
       "<table border=\"1\" class=\"dataframe\">\n",
       "  <thead>\n",
       "    <tr style=\"text-align: right;\">\n",
       "      <th></th>\n",
       "      <th>ID</th>\n",
       "      <th>label</th>\n",
       "      <th>sessions</th>\n",
       "      <th>drives</th>\n",
       "      <th>total_sessions</th>\n",
       "      <th>n_days_after_onboarding</th>\n",
       "      <th>total_navigations_fav1</th>\n",
       "      <th>total_navigations_fav2</th>\n",
       "      <th>driven_km_drives</th>\n",
       "      <th>duration_minutes_drives</th>\n",
       "      <th>activity_days</th>\n",
       "      <th>driving_days</th>\n",
       "      <th>device</th>\n",
       "      <th>km_per_driving_day</th>\n",
       "      <th>percent_sessions_in_last_month</th>\n",
       "      <th>monthly_drives_per_sessions_ratio</th>\n",
       "    </tr>\n",
       "  </thead>\n",
       "  <tbody>\n",
       "    <tr>\n",
       "      <th>0</th>\n",
       "      <td>0</td>\n",
       "      <td>retained</td>\n",
       "      <td>243</td>\n",
       "      <td>201</td>\n",
       "      <td>296.748273</td>\n",
       "      <td>2276</td>\n",
       "      <td>208</td>\n",
       "      <td>0</td>\n",
       "      <td>2628.845068</td>\n",
       "      <td>1985.775061</td>\n",
       "      <td>28</td>\n",
       "      <td>19</td>\n",
       "      <td>Android</td>\n",
       "      <td>138.360267</td>\n",
       "      <td>0.953670</td>\n",
       "      <td>0.827160</td>\n",
       "    </tr>\n",
       "    <tr>\n",
       "      <th>1</th>\n",
       "      <td>1</td>\n",
       "      <td>retained</td>\n",
       "      <td>133</td>\n",
       "      <td>107</td>\n",
       "      <td>326.896596</td>\n",
       "      <td>1225</td>\n",
       "      <td>19</td>\n",
       "      <td>64</td>\n",
       "      <td>8889.794236</td>\n",
       "      <td>3160.472914</td>\n",
       "      <td>13</td>\n",
       "      <td>11</td>\n",
       "      <td>iPhone</td>\n",
       "      <td>1246.901868</td>\n",
       "      <td>0.406856</td>\n",
       "      <td>0.804511</td>\n",
       "    </tr>\n",
       "    <tr>\n",
       "      <th>2</th>\n",
       "      <td>2</td>\n",
       "      <td>retained</td>\n",
       "      <td>114</td>\n",
       "      <td>95</td>\n",
       "      <td>135.522926</td>\n",
       "      <td>2651</td>\n",
       "      <td>0</td>\n",
       "      <td>0</td>\n",
       "      <td>3059.148818</td>\n",
       "      <td>1610.735904</td>\n",
       "      <td>14</td>\n",
       "      <td>8</td>\n",
       "      <td>Android</td>\n",
       "      <td>382.393602</td>\n",
       "      <td>0.841186</td>\n",
       "      <td>0.833333</td>\n",
       "    </tr>\n",
       "    <tr>\n",
       "      <th>3</th>\n",
       "      <td>3</td>\n",
       "      <td>retained</td>\n",
       "      <td>49</td>\n",
       "      <td>40</td>\n",
       "      <td>67.589221</td>\n",
       "      <td>15</td>\n",
       "      <td>322</td>\n",
       "      <td>7</td>\n",
       "      <td>913.591123</td>\n",
       "      <td>587.196542</td>\n",
       "      <td>7</td>\n",
       "      <td>3</td>\n",
       "      <td>iPhone</td>\n",
       "      <td>304.530374</td>\n",
       "      <td>0.724968</td>\n",
       "      <td>0.816327</td>\n",
       "    </tr>\n",
       "    <tr>\n",
       "      <th>4</th>\n",
       "      <td>4</td>\n",
       "      <td>retained</td>\n",
       "      <td>84</td>\n",
       "      <td>68</td>\n",
       "      <td>168.247020</td>\n",
       "      <td>1562</td>\n",
       "      <td>166</td>\n",
       "      <td>5</td>\n",
       "      <td>3950.202008</td>\n",
       "      <td>1219.555924</td>\n",
       "      <td>27</td>\n",
       "      <td>18</td>\n",
       "      <td>Android</td>\n",
       "      <td>219.455667</td>\n",
       "      <td>0.499266</td>\n",
       "      <td>0.809524</td>\n",
       "    </tr>\n",
       "  </tbody>\n",
       "</table>\n",
       "</div>"
      ],
      "text/plain": [
       "   ID     label  sessions  drives  total_sessions  n_days_after_onboarding  \\\n",
       "0   0  retained       243     201      296.748273                     2276   \n",
       "1   1  retained       133     107      326.896596                     1225   \n",
       "2   2  retained       114      95      135.522926                     2651   \n",
       "3   3  retained        49      40       67.589221                       15   \n",
       "4   4  retained        84      68      168.247020                     1562   \n",
       "\n",
       "   total_navigations_fav1  total_navigations_fav2  driven_km_drives  \\\n",
       "0                     208                       0       2628.845068   \n",
       "1                      19                      64       8889.794236   \n",
       "2                       0                       0       3059.148818   \n",
       "3                     322                       7        913.591123   \n",
       "4                     166                       5       3950.202008   \n",
       "\n",
       "   duration_minutes_drives  activity_days  driving_days   device  \\\n",
       "0              1985.775061             28            19  Android   \n",
       "1              3160.472914             13            11   iPhone   \n",
       "2              1610.735904             14             8  Android   \n",
       "3               587.196542              7             3   iPhone   \n",
       "4              1219.555924             27            18  Android   \n",
       "\n",
       "   km_per_driving_day  percent_sessions_in_last_month  \\\n",
       "0          138.360267                        0.953670   \n",
       "1         1246.901868                        0.406856   \n",
       "2          382.393602                        0.841186   \n",
       "3          304.530374                        0.724968   \n",
       "4          219.455667                        0.499266   \n",
       "\n",
       "   monthly_drives_per_sessions_ratio  \n",
       "0                           0.827160  \n",
       "1                           0.804511  \n",
       "2                           0.833333  \n",
       "3                           0.816327  \n",
       "4                           0.809524  "
      ]
     },
     "execution_count": 62,
     "metadata": {},
     "output_type": "execute_result"
    }
   ],
   "source": [
    "### YOUR CODE HERE ###\n",
    "df.head()"
   ]
  },
  {
   "cell_type": "markdown",
   "metadata": {
    "id": "U4HeITeOwXfo"
   },
   "source": [
    "### **Tugas 4b. Kesimpulan**\n",
    "\n",
    "Setelah menjelajahi dan memvisualisasikan data, langkah selanjutnya adalah berbagi temuan Anda dengan Harriet Hadzic, Direktur Analisis Data Waze. Pertimbangkan pertanyaan-pertanyaan berikut saat Anda bersiap untuk menulis ringkasan eksekutif Anda. Pikirkan poin-poin penting yang mungkin ingin Anda bagikan dengan tim, dan informasi apa yang paling relevan dengan proyek churn pengguna.\n",
    "\n",
    "**Pertanyaan:**\n",
    "\n",
    "1. Jenis distribusi apa yang Anda perhatikan dalam variabel? Apa yang Anda ketahui tentang data ini?\n",
    "\n",
    "> *Hampir semua variabel sangat condong ke kanan atau terdistribusi secara merata. Untuk distribusi miring ke kanan, ini berarti sebagian besar pengguna memiliki nilai di ujung bawah rentang untuk variabel tersebut. Untuk distribusi yang seragam, ini berarti bahwa pengguna pada umumnya memiliki kemungkinan yang sama untuk memiliki nilai di manapun dalam rentang variabel tersebut.*\n",
    "\n",
    "2. Apakah ada sesuatu yang membuat Anda percaya bahwa data itu salah atau bermasalah?\n",
    "\n",
    "> *Sebagian besar data tidak bermasalah, dan tidak ada indikasi bahwa satu variabel pun benar-benar salah. Namun, beberapa variabel memiliki nilai luar yang sangat tidak mungkin atau bahkan tidak mungkin, seperti `driven_km_drives`. Beberapa variabel bulanan juga mungkin bermasalah, seperti `activity_days` dan `driving_days`, karena salah satunya memiliki nilai maksimal 31 sedangkan variabel lainnya memiliki nilai maksimal 30, yang menunjukkan bahwa pengumpulan data mungkin tidak terjadi di bulan yang sama untuk kedua variabel ini.*\n",
    "\n",
    "3. Apakah penyelidikan Anda menimbulkan pertanyaan lebih lanjut yang ingin Anda selidiki atau tanyakan kepada tim Waze?\n",
    "\n",
    "> *Ya. Saya ingin meminta tim data Waze untuk mengonfirmasi bahwa variabel bulanan dikumpulkan selama bulan yang sama, mengingat beberapa variabel memiliki nilai maksimal 30 hari sementara yang lain memiliki 31 hari. Saya juga ingin mempelajari mengapa begitu banyak pengguna lama tiba-tiba mulai menggunakan aplikasi begitu banyak hanya dalam sebulan terakhir. Apakah ada sesuatu yang berubah dalam sebulan terakhir yang mungkin mendorong perilaku seperti ini?*\n",
    "\n",
    "4. Berapa persentase pengguna yang melakukan churn dan berapa persentase yang dipertahankan?\n",
    "\n",
    "> *Kurang dari 18% pengguna yang melakukan churn, dan \\~82% dipertahankan.*\n",
    "\n",
    "5. Faktor apa yang berkorelasi dengan churn pengguna? Bagaimana?\n",
    "\n",
    "> *Jarak yang ditempuh per hari mengemudi memiliki korelasi positif dengan churn pengguna. Semakin jauh pengguna berkendara pada setiap hari mengemudi, semakin besar kemungkinan mereka melakukan churn. Di sisi lain, jumlah hari mengemudi memiliki korelasi negatif dengan churn. Pengguna yang mengemudi lebih banyak hari dalam sebulan terakhir cenderung tidak melakukan churn.*\n",
    "\n",
    "6. Apakah penggunaan yang lebih baru memiliki representasi yang lebih besar dalam kumpulan data ini daripada pengguna dengan masa kerja yang lebih lama? Bagaimana Anda tahu?\n",
    "\n",
    "> *Tidak. Pengguna dari semua tenor dari baru hingga \\~10 tahun terwakili secara relatif merata dalam data. Hal ini didukung oleh histogram untuk `n_days_after_onboarding`, yang menampilkan distribusi seragam untuk variabel ini.*"
   ]
  },
  {
   "cell_type": "markdown",
   "metadata": {
    "id": "5o3dV6NYzNSs"
   },
   "source": [
    "==> ENTER YOUR RESPONSES TO QUESTIONS 1-6 HERE\n",
    "\n",
    "\n"
   ]
  },
  {
   "cell_type": "markdown",
   "metadata": {},
   "source": [
    "**Congratulations!** You've completed this lab. However, you may not notice a green check mark next to this item on Coursera's platform. Please continue your progress regardless of the check mark. Just click on the \"save\" icon at the top of this notebook to ensure your work has been logged."
   ]
  }
 ],
 "metadata": {
  "colab": {
   "provenance": [
    {
     "file_id": "1DQhamPzI3QON4eTBzHHk4F0UnN9eILCd",
     "timestamp": 1671052108573
    },
    {
     "file_id": "1y_9vAHPuwnA8Kmbw8rzKTHoWxLUcyJM-",
     "timestamp": 1668985233529
    }
   ],
   "toc_visible": true
  },
  "kernelspec": {
   "display_name": "Python 3",
   "language": "python",
   "name": "python3"
  },
  "language_info": {
   "codemirror_mode": {
    "name": "ipython",
    "version": 3
   },
   "file_extension": ".py",
   "mimetype": "text/x-python",
   "name": "python",
   "nbconvert_exporter": "python",
   "pygments_lexer": "ipython3",
   "version": "3.7.6"
  }
 },
 "nbformat": 4,
 "nbformat_minor": 1
}
